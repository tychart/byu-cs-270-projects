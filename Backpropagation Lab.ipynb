{
 "cells": [
  {
   "cell_type": "markdown",
   "metadata": {
    "id": "DVL7_bgmIAPR"
   },
   "source": [
    "# Backpropagation Lab\n",
    "\n",
    "\n",
    "\n"
   ]
  },
  {
   "cell_type": "code",
   "execution_count": 1,
   "metadata": {
    "id": "6ZbYjZZZ_yLV"
   },
   "outputs": [],
   "source": [
    "from sklearn.neural_network import MLPClassifier\n",
    "import numpy as np\n",
    "import pandas as pd\n",
    "import matplotlib.pyplot as plt"
   ]
  },
  {
   "cell_type": "markdown",
   "metadata": {
    "id": "9vWiTdlbR2Xh"
   },
   "source": [
    "## 1 Avoiding Overfit: Early Stopping and Loss Regularization\n",
    "\n",
    "### 1.1 (10%) No overfit avoidance\n",
    "Train the sklearn [MLP classifier](https://scikit-learn.org/stable/modules/generated/sklearn.neural_network.MLPClassifier.html#sklearn.neural_network.MLPClassifier) on the [Iris Dataset](https://raw.githubusercontent.com/cs472ta/CS472/master/datasets/iris.arff).  Use 3 output nodes (1 per class). Expanding the one output variable into 3 is called one-hot encoding or dummy variable encoding. There are lots of ways to implement this including the Pandas get_dummies method. This experiment is set up to run a little longer to better see the effects of overfit.  Be patient as there are lots of hidden nodes and a high max iterations setting.\n",
    "\n",
    "Use default parameters except for the following:\n",
    "- hidden_layer_sizes = [64] - One hidden layer with 64 hidden nodes\n",
    "- activation = 'logistic'\n",
    "- solver = 'sgd'\n",
    "- alpha = 0\n",
    "- batch_size = 1 # How big of a group of items do you go through before updating the weights, in this case, batch size of one means that it updates after each training item, this makes it stochastic gradiant desent.\n",
    "- learning_rate_init = 0.01\n",
    "- shuffle = True\n",
    "- momentum = 0\n",
    "- n_iter_no_change = 50\n",
    "- max_iterations = 10000\n",
    "\n",
    "Use a random 80/20 split of the data.  Run it a few times with different random training/test splits and give average values for\n",
    "- Number of iterations until convergence\n",
    "- Training set accuracy\n",
    "- Test set accuracy\n",
    "For one run observe the softmax probabilities on the test set using clf.predict_proba"
   ]
  },
  {
   "cell_type": "code",
   "execution_count": 2,
   "metadata": {},
   "outputs": [
    {
     "name": "stdout",
     "output_type": "stream",
     "text": [
      "Total Epochs Ran: 317\n",
      "Final Accuracy On the Training Set: 1.0\n",
      "Final Accuracy On the Test Set: 0.975\n"
     ]
    }
   ],
   "source": [
    "#Iris with no regularization\n",
    "\n",
    "\"\"\"We'll need to setup an MLP classifier\n",
    "Go to the docs in sikit learn and look at the examples\"\"\"\n",
    "\n",
    "from scipy.io import arff\n",
    "from sklearn.datasets import make_classification\n",
    "from sklearn.model_selection import train_test_split\n",
    "from sklearn.datasets import load_iris\n",
    "\n",
    "def load_dataset(dataset_name):\n",
    "    Data_Set = arff.loadarff(f'datasets/{dataset_name}')\n",
    "    Data_Set_df = pd.DataFrame(Data_Set[0])\n",
    "    Data_Set_np = Data_Set_df.to_numpy()\n",
    "    Data_Set_np = Data_Set_np.astype(str)\n",
    "    X = Data_Set_df.drop('class', axis=1).to_numpy()\n",
    "    y = Data_Set_df['class'].astype(str).to_numpy()\n",
    "    # X = Data_Set_np[:, :-1]\n",
    "    # y = Data_Set_np[:, -1]\n",
    "    return [X, y]\n",
    "\n",
    "# X, y = make_classification(n_samples=100, random_state=1)\n",
    "X, y = load_iris(return_X_y=True)\n",
    "# X, y = load_dataset(\"iris.arff\")\n",
    "\n",
    "X_train, X_test, y_train, y_test = train_test_split(\n",
    "    X, y,\n",
    "    test_size=0.2,\n",
    "    train_size=0.8,\n",
    "    random_state=1\n",
    ")\n",
    "\n",
    "clf = MLPClassifier(\n",
    "    hidden_layer_sizes=64,\n",
    "    activation=\"logistic\",\n",
    "    solver=\"sgd\",\n",
    "    alpha=0,\n",
    "    batch_size=1,\n",
    "    learning_rate_init=0.01,\n",
    "    shuffle=True,\n",
    "    momentum=0,\n",
    "    n_iter_no_change=50,\n",
    "    max_iter=10000,\n",
    ").fit(X_train, y_train)\n",
    "\n",
    "print(f\"Total Epochs Ran: {clf.n_iter_}\")\n",
    "# print(f\"Final Weights: {clf.coef_}\")\n",
    "# print(f\"Final Bias: {clf.intercept_}\")\n",
    "print(f\"Final Accuracy On the Training Set: {clf.score(X_test, y_test)}\")\n",
    "print(f\"Final Accuracy On the Test Set: {clf.score(X_train, y_train)}\")\n"
   ]
  },
  {
   "cell_type": "markdown",
   "metadata": {},
   "source": [
    "#### Discussion\n",
    "In the markdown cell below, write about your experience training the MLP classifier. Things to cover in your discussion: How long did it take? What was your accuracy on the training set? What was your accuracy on the testing set? Do you see any evidence of overfitting? If so, what could be done to reduce the effects of overfitting?"
   ]
  },
  {
   "cell_type": "markdown",
   "metadata": {},
   "source": [
    "** Put your answer here **\n",
    "\n",
    "The MLP classifier did pretty good on this dataset. It usually took about 200-300 epochs for the model to converge, and after that, the accuracy for that model on the training set usually got 100%, while the accuracy for the test set usually got anywhere from 97.5%-100%. I think that some evidance of overfitting happens whne the accuracy for the test set is consistantly lower than the acuracy for the training set. I also see that overfitting could be seen by the model consistantly getting 100% accuracy for the training set, it might have just memorized the values."
   ]
  },
  {
   "cell_type": "markdown",
   "metadata": {},
   "source": [
    "### 1.2 (10%) Early Stopping (Validation Set)\n",
    "\n",
    "- Do the same as above but this time with early stopping\n",
    "- Use a validation set taken from the training set for your stopping criteria. Using 10-15% of the training set for a validation set is common. You do this simply by setting the MLPClassifier early_stopping, validation_fraction, and n_iter_no_change parameters.\n",
    "- Run it a few times with different training/test splits and give average values for\n",
    "    - Number of iterations until convergence\n",
    "    - Training set accuracy\n",
    "    - Test set accuracy\n",
    "    - Best validation score (MLPClassifer attribute best_validation_score_)\n",
    "- For one run create a graph with validation set accuracy (*y*-axis) vs epochs (*x*-axis). Hint: MLPClassifer attribute validation_scores_\n",
    "\n",
    "Note: Due to the simplicity of and lack of noise in the iris data set you will not see the accuracy improvements that early stopping or loss regularization can give for more complex noisy datasets.  In particular, early stopping will have lower than expected results because with a very small VS taken from a very small training set there is less data to train on and more variance with the VS score.  Thus, you will probably get lower accuracies for VS than normal training for this less typical case.  But at least you will get practice on using early stopping and loss regularization for future data sets."
   ]
  },
  {
   "cell_type": "code",
   "execution_count": 6,
   "metadata": {},
   "outputs": [
    {
     "name": "stdout",
     "output_type": "stream",
     "text": [
      "Average Training Accuracy: 0.9448818897637795\n",
      "Average Testing Accuracy: 1.0\n",
      "Average Epochs Ran: 110.0\n",
      "Average Best Validation Score: 1.0\n",
      "Final Epochs Ran: 110\n",
      "Final Accuracy On the Training Set: 0.9448818897637795\n",
      "Final Accuracy On the Test Set: 1.0\n",
      "Best Validation Score: 1.0\n"
     ]
    },
    {
     "data": {
      "image/png": "[encoded data removed]",
      "text/plain": [
       "<Figure size 640x480 with 1 Axes>"
      ]
     },
     "metadata": {},
     "output_type": "display_data"
    }
   ],
   "source": [
    "#Iris with early stopping and validation scores graph\n",
    "\n",
    "\"\"\"We don't pay attention to the training set result, we only pay attention to the validation set accuracy\"\"\"\n",
    "\n",
    "import matplotlib.pyplot as plt\n",
    "\n",
    "def earlyStop(X_train, y_train):\n",
    "\n",
    "    clf = MLPClassifier(\n",
    "        hidden_layer_sizes=64,\n",
    "        activation=\"logistic\",\n",
    "        solver=\"sgd\",\n",
    "        alpha=0,\n",
    "        batch_size=1,\n",
    "        learning_rate_init=0.01,\n",
    "        shuffle=True,\n",
    "        momentum=0,\n",
    "        # n_iter_no_change=50,\n",
    "        n_iter_no_change=100,\n",
    "        max_iter=10000,\n",
    "        early_stopping=True,\n",
    "    ).fit(X_train, y_train)\n",
    "    \n",
    "    return clf\n",
    "\n",
    "itters = 1\n",
    "train_accuracy_total = 0\n",
    "test_accuracy_total = 0\n",
    "epochs_ran_total = 0\n",
    "best_validation_score_total = 0\n",
    "\n",
    "for i in range(itters):\n",
    "    X_train, X_test, y_train, y_test = train_test_split(\n",
    "        X, y,\n",
    "        test_size=0.15,\n",
    "        train_size=0.85,\n",
    "        random_state=1\n",
    "    )\n",
    "\n",
    "    clf = earlyStop(X_train, y_train)\n",
    "\n",
    "    train_accuracy_total += clf.score(X_train, y_train)\n",
    "    test_accuracy_total += clf.score(X_test, y_test)\n",
    "    epochs_ran_total += clf.n_iter_\n",
    "    best_validation_score_total += clf.best_validation_score_\n",
    "\n",
    "print(f\"Average Training Accuracy: {train_accuracy_total / itters}\")\n",
    "print(f\"Average Testing Accuracy: {test_accuracy_total / itters}\")\n",
    "print(f\"Average Epochs Ran: {epochs_ran_total / itters}\")\n",
    "print(f\"Average Best Validation Score: {best_validation_score_total / itters}\")\n",
    "\n",
    "\n",
    "\n",
    "print(f\"Final Epochs Ran: {clf.n_iter_}\")\n",
    "# print(f\"Final Weights: {clf.coef_}\")\n",
    "# print(f\"Final Bias: {clf.intercept_}\")\n",
    "print(f\"Final Accuracy On the Training Set: {clf.score(X_train, y_train)}\")\n",
    "print(f\"Final Accuracy On the Test Set: {clf.score(X_test, y_test)}\")\n",
    "print(f\"Best Validation Score: {clf.best_validation_score_}\")\n",
    "# print(clf.validation_scores_)\n",
    "\n",
    "\n",
    "# plt.xlim(-1,1)\n",
    "# plt.ylim(0,1.2)\n",
    "scatter = plt.plot(clf.validation_scores_)"
   ]
  },
  {
   "cell_type": "markdown",
   "metadata": {},
   "source": [
    "#### Discussion\n",
    "Report on the average number of iterations until convergence. What is the effect of the use of the validation set and early stopping on training set accuracy and testing set accuracy? What do you attribute the performance change to? What do you see in the validation scores graph?"
   ]
  },
  {
   "cell_type": "markdown",
   "metadata": {
    "id": "ZNMATZqjtlxs"
   },
   "source": [
    "** Your discussion of average values above and the validation score graph **\n",
    "\n",
    "Haivng messed around with the n_itter_no_change variable, it seems like even if I set it to 100, 1000, or 10,000, the set has already converged by around epoch number 40. When I put the n_itter_no_change equal to 10000, I experianced that the best validation score eventualy went back down to 90%, then back up to 100%, over and over, which is what I observed in the validation scores graph. Strangely, it appears that the average testing accuracy is usually much higher than the average training accuracy, which I don't understand. "
   ]
  },
  {
   "cell_type": "markdown",
   "metadata": {},
   "source": [
    "### 1.3 (10%) Loss Regularization\n",
    "\n",
    "- Do the same as in 1.1 but his time with loss regularization (Do not do early stopping)\n",
    "- Run it with different L2 regularization parameter values (alpha).  The default for alpha is .0001.  Try other values such as .1, .01, .001, .00001, etc. Make a table with each row including:\n",
    "    - The regularization parameter value\n",
    "    - Number of iterations until convergence\n",
    "    - Training set accuracy\n",
    "    - Test set accuracy\n",
    "    - Best loss value (MLPClassifer attribute best_loss_)\n",
    "- Which regularization value gave you the best results?\n",
    "- For your best regularization value do one run and create a graph with loss (*y*-axis) vs epochs (*x*-axis) for the training set (Hint: MLPClassifer attribute loss_curve_)"
   ]
  },
  {
   "cell_type": "code",
   "execution_count": 9,
   "metadata": {},
   "outputs": [
    {
     "name": "stdout",
     "output_type": "stream",
     "text": [
      "Alpha Value: 0.1\n",
      "Average Training Accuracy: 0.7921259842519686\n",
      "Average Testing Accuracy: 0.6869565217391305\n",
      "Average Epochs Ran: 146.0\n",
      "Average Best Validation Score: 0.8931427657124009\n",
      "-----------------------------------------------\n",
      "Alpha Value: 0.01\n",
      "Average Training Accuracy: 0.9748031496062992\n",
      "Average Testing Accuracy: 0.9565217391304348\n",
      "Average Epochs Ran: 182.2\n",
      "Average Best Validation Score: 0.36103523005764815\n",
      "-----------------------------------------------\n",
      "Alpha Value: 0.001\n",
      "Average Training Accuracy: 0.973228346456693\n",
      "Average Testing Accuracy: 0.9826086956521738\n",
      "Average Epochs Ran: 213.0\n",
      "Average Best Validation Score: 0.11581937838935777\n",
      "-----------------------------------------------\n",
      "Alpha Value: 0.0001\n",
      "Average Training Accuracy: 0.973228346456693\n",
      "Average Testing Accuracy: 1.0\n",
      "Average Epochs Ran: 252.2\n",
      "Average Best Validation Score: 0.0698158183040593\n",
      "-----------------------------------------------\n",
      "Alpha Value: 1e-05\n",
      "Average Training Accuracy: 0.9669291338582677\n",
      "Average Testing Accuracy: 1.0\n",
      "Average Epochs Ran: 262.2\n",
      "Average Best Validation Score: 0.058762617909573156\n",
      "-----------------------------------------------\n"
     ]
    }
   ],
   "source": [
    "#Iris with Loss Regularization \n",
    "\n",
    "# Use the flag to turn on reglurization\n",
    "\n",
    "def lossRegularization(X_train, y_train, alpha_val):\n",
    "\n",
    "    clf = MLPClassifier(\n",
    "        hidden_layer_sizes=64,\n",
    "        activation=\"logistic\",\n",
    "        solver=\"sgd\",\n",
    "        alpha=alpha_val,\n",
    "        batch_size=1,\n",
    "        learning_rate_init=0.01,\n",
    "        shuffle=True,\n",
    "        momentum=0,\n",
    "        n_iter_no_change=50,\n",
    "        max_iter=10000,\n",
    "        # early_stopping=True,\n",
    "    ).fit(X_train, y_train)\n",
    "    \n",
    "    return clf\n",
    "\n",
    "itters = 5\n",
    "\n",
    "alphas = [0.1, 0.01, 0.001, 0.0001, 0.00001]\n",
    "\n",
    "\n",
    "\n",
    "for alpha in alphas:\n",
    "\n",
    "    epochs_ran_total = 0\n",
    "    train_accuracy_total = 0\n",
    "    test_accuracy_total = 0\n",
    "    best_loss_val_total = 0\n",
    "\n",
    "    for i in range(itters):\n",
    "\n",
    "        X_train, X_test, y_train, y_test = train_test_split(\n",
    "            X, y,\n",
    "            test_size=0.15,\n",
    "            train_size=0.85,\n",
    "            random_state=1\n",
    "        )\n",
    "\n",
    "        clf = lossRegularization(X_train, y_train, alpha_val=alpha)\n",
    "\n",
    "        train_accuracy_total += clf.score(X_train, y_train)\n",
    "        test_accuracy_total += clf.score(X_test, y_test)\n",
    "        epochs_ran_total += clf.n_iter_\n",
    "        best_loss_val_total += clf.best_loss_\n",
    "\n",
    "    print(f\"Alpha Value: {alpha}\")\n",
    "    print(f\"Average Training Accuracy: {train_accuracy_total / itters}\")\n",
    "    print(f\"Average Testing Accuracy: {test_accuracy_total / itters}\")\n",
    "    print(f\"Average Epochs Ran: {epochs_ran_total / itters}\")\n",
    "    print(f\"Average Best Validation Score: {best_loss_val_total / itters}\")\n",
    "    print(\"-----------------------------------------------\")\n",
    "    \n",
    "    "
   ]
  },
  {
   "cell_type": "markdown",
   "metadata": {},
   "source": [
    "#### Discussion\n",
    "Write about which regularization method gave you the best results and why you think that happened. Also compare: no regularization, early stopping, and L2 loss regularization."
   ]
  },
  {
   "cell_type": "markdown",
   "metadata": {},
   "source": [
    "** Your discussion **\n",
    "\n",
    "\n",
    "| Alpha Value | Average Training Accuracy | Average Testing Accuracy | Average Epochs Ran | Average Best Validation Score |\n",
    "| ----------- | ------------------------- | ------------------------ | ------------------ | ----------------------------- |\n",
    "| 0.1         | 0.7921259842519686        | 0.6869565217391305       | 146.0              | 0.8931427657124009            |\n",
    "| 0.01        | 0.9748031496062992        | 0.9565217391304348       | 182.2              | 0.36103523005764815           |\n",
    "| 0.001       | 0.973228346456693         | 0.9826086956521738       | 213.0              | 0.11581937838935777           |\n",
    "| 0.0001      | 0.973228346456693         | 1.0                      | 252.2              | 0.0698158183040593            |\n",
    "| 0.00001     | 0.9669291338582677        | 1.0                      | 262.2              | 0.058762617909573156          |\n",
    "\n",
    "It appears that as the regularization value decreases, the testing accuracy increases. The average epochs also increases steadily, and it also apears that the average best validation score decreases. For the training accuracy, as the alpha value decreases, the average training accuracy apears"
   ]
  },
  {
   "cell_type": "markdown",
   "metadata": {
    "id": "mOteTlV6S0bq"
   },
   "source": [
    "## 2 Hyperparameters \n",
    "In this section we use the [Vowel Dataset](https://raw.githubusercontent.com/cs472ta/CS472/master/datasets/vowel.arff) to consider the hyperparameters of learning rate, number of hidden nodes, and momentum. \n",
    "\n",
    "### 2.1 (10%) Vowel Dataset Questions\n",
    "- Give the baseline accuracies for the Iris and Vowel datasets. Baseline accuracy is what you would get if the model just outputs the majority class of the data set (i.e. the output value which occurs most often). These two data sets are not great examples for this as they have an equal amount of each class, which is not typical.\n",
    "- Discuss why the vowel data set will probably have lower accuracy than Iris.\n",
    "- Consider which of the vowel dataset's input features you should not use in training and discuss why."
   ]
  },
  {
   "cell_type": "markdown",
   "metadata": {
    "id": "qmq9GSbJS8k2"
   },
   "source": [
    "** Discuss these items here **\n",
    "\n",
    "Use numpy pandas"
   ]
  },
  {
   "cell_type": "markdown",
   "metadata": {
    "id": "SIRG42TgSR4x"
   },
   "source": [
    "### 2.2 (10%) Learning Rate\n",
    "Load the [Vowel Dataset](https://raw.githubusercontent.com/cs472ta/CS472/master/datasets/vowel.arff). Drop any features which you explained above as being inappropriate for training.\n",
    "\n",
    "Hints: Consider the Pandas drop method for dropping columns. When you want to transform features in your data set there are lots of approaches. You could edit the arff file directly, or make the transforms in your code.  The Pandas replace method is nice for that. For example, if you wanted to change the vowel data set gender feature in a Pandas dataframe to 0/1 you could do the following:\n",
    "\n",
    "vowel_df['Sex'] = vowel_df['Sex'].str.decode('utf-8')   //Changes the byte code data into a normal string, b'Male' becomes \"Male\"\\\n",
    "vowel_df = vowel_df.replace('Male', 0)\\\n",
    "vowel_df = vowel_df.replace('Female', 1)\n",
    "\n",
    "- Use one layer of hidden nodes with the number of hidden nodes being twice the number of inputs.\n",
    "- Use a random 75/25 split of the data for the training/test set.\n",
    "- Do not use early stopping.\n",
    "- Try at least 5 different learning rates (LR) from very small (e.g. .001) to pretty big (e.g. 10). Each LR will require a different number of epochs to learn. LR effects both accuracy and time required for learning.\n",
    "- Create a table which includes a row for each LR.  Your table columns should be LR, # epochs to learn the model, final training set accuracy and final test set accuracy.  As learning rates get smaller, it usually takes more epochs to learn. If your model is stopping learning too soon (converging) by hitting max_iterations (in this case and in experiments below), then you need to increase your max_iterations parameter in order to give your model more learning time.  To keep things faster, you don't need to increase max_iter past 1000 if you don't want to, but point out when more iterations may have given improvement.\n",
    "\n",
    "In real testing one averages the results of multiple trials per LR (and other parameters) with different intitial conditions (training/test split, initial weights, etc.). That gives more accurate results but is not required for this lab."
   ]
  },
  {
   "cell_type": "code",
   "execution_count": null,
   "metadata": {
    "id": "KBGUn43ASiXW"
   },
   "outputs": [],
   "source": [
    "# Train with different learning rates"
   ]
  },
  {
   "cell_type": "markdown",
   "metadata": {
    "id": "xpjJBIwktlxt"
   },
   "source": [
    "#### Discussion\n",
    "Discuss your table and the effect of different learning rates on both training time and accuracy"
   ]
  },
  {
   "cell_type": "markdown",
   "metadata": {},
   "source": [
    "** Your discussion goes here **"
   ]
  },
  {
   "cell_type": "markdown",
   "metadata": {
    "id": "A-nUu5Txtlxt"
   },
   "source": [
    "### 2.3 (10%) Number of Hidden Nodes\n",
    "\n",
    "Using the best LR you discovered, experiment with different numbers of hidden nodes.\n",
    "\n",
    "- Start with 1 hidden node, then 2, and then double them for each test until you get no more improvement in accuracy. \n",
    "- Create a table just like above, except with # of hidden nodes rather than LR.\n",
    "\n",
    "In general, whenever you are testing a parameter such as # of hidden nodes, keep testing values until no more improvement is found. For example, if 20 hidden nodes did better than 10, you would not stop at 20, but would try 40, etc., until you no longer got improvement."
   ]
  },
  {
   "cell_type": "code",
   "execution_count": null,
   "metadata": {
    "id": "uLqeA1iutlxt"
   },
   "outputs": [],
   "source": [
    "# Train with different numbers of hidden nodes\n",
    "\n",
    "#Go through and do the experiments, be a scientist, just try adding more hidden nodes, see what happens, does it change the results a bunch?"
   ]
  },
  {
   "cell_type": "markdown",
   "metadata": {
    "id": "CLliSMtXtlxt"
   },
   "source": [
    "#### Discussion\n",
    "Discuss your table and the effect of different numbers of hidden nodes on both training time and accuracy"
   ]
  },
  {
   "cell_type": "markdown",
   "metadata": {},
   "source": [
    "** Your discussion goes here **"
   ]
  },
  {
   "cell_type": "markdown",
   "metadata": {
    "id": "v72ryeHXtlxu"
   },
   "source": [
    "### 2.4 (10%) Momentum\n",
    "\n",
    "Try at least 5 different momentum terms between 0 and just less than 1 using the best number of hidden nodes and LR from your earlier experiments.\n",
    "\n",
    "- Create a table just like above, except with momentum values rather than LR or number of hidden nodes."
   ]
  },
  {
   "cell_type": "code",
   "execution_count": null,
   "metadata": {
    "id": "yiEBTL6Vtlxu"
   },
   "outputs": [],
   "source": [
    "# Train with different momentum values"
   ]
  },
  {
   "cell_type": "markdown",
   "metadata": {
    "id": "LqidhekCtlxu"
   },
   "source": [
    "#### Discussion\n",
    "Discuss your table and the effect of momentum on both training time and accuracy"
   ]
  },
  {
   "cell_type": "markdown",
   "metadata": {},
   "source": [
    "** Your discussion goes here **"
   ]
  },
  {
   "cell_type": "markdown",
   "metadata": {
    "id": "7hHxNgUCtlxv"
   },
   "source": [
    "### 2.5 (10%) Automatic Hyperparameter Discovery\n",
    "Using the vowel dataset, automatically adjust the LR, # of hidden nodes, and momentum using [grid and random search](https://scikit-learn.org/stable/modules/grid_search.html) \n",
    "- For grid search include the most promising hyperparameter values you used in your experiments above.  You may add others also.\n",
    "- Be patient as the grid search can take a while since it has to train all combinations of models. Don't use too many parameter options or it will be too slow.\n",
    "- Report your best hyperparameters and accuracy.  Unfortunately, you will not always get as high a score as you might expect.  This is in part due to the simplicity of the dataset.  It also teaches that in gerneral you should not blindly assume that a tool will get you the results you expect, and that you may need to consider multiple approaches."
   ]
  },
  {
   "cell_type": "code",
   "execution_count": null,
   "metadata": {},
   "outputs": [],
   "source": [
    "#Grid search for hyperparameters.\n",
    "#Here is one variation of code you could use for your grid search. You can try your own variation if you prefer.\n",
    "\n",
    "from sklearn.model_selection import GridSearchCV\n",
    "clf = MLPClassifier(activation='logistic', solver='sgd',alpha=0,early_stopping=True, n_iter_no_change=10, batch_size=1)\n",
    "parameters = {'learning_rate_init':( .001, ?, ....), #You have to fill in the rest of your values for these lists\n",
    "              'hidden_layer_sizes': ([8], [?], ...),\n",
    "              'momentum':(0, ?, ...)\n",
    "grid = GridSearchCV(clf, parameters)\n",
    "grid.fit(X,Y)    #This takes a while to run\n",
    "print(grid.best_params_)\n",
    "print(grid.best_score_)"
   ]
  },
  {
   "cell_type": "code",
   "execution_count": null,
   "metadata": {},
   "outputs": [],
   "source": [
    "#Randomized search for hyperparameters\n",
    "#Here is one variation of code you could use for your randomized search.\n",
    "\n",
    "from sklearn.model_selection import RandomizedSearchCV\n",
    "from scipy.stats import uniform\n",
    "clf = MLPClassifier(activation='logistic', solver='sgd',alpha=0,early_stopping=True, n_iter_no_change=10, batch_size=1)\n",
    "distributions = dict(learning_rate_init=uniform(loc=?, scale=?), #loc is the min val, and loc + scale is the max val\n",
    "                    hidden_layer_sizes = ([8], [?], ...), #since there is no distribution it samples these values uniformly\n",
    "                    momentum=uniform(loc=0,scale =.99))\n",
    "search = RandomizedSearchCV(clf, distributions, n_iter=10)\n",
    "search.fit(X,Y)\n",
    "print(search.best_params_)\n",
    "print(search.best_score_)"
   ]
  },
  {
   "cell_type": "markdown",
   "metadata": {
    "id": "BqSFAXwlk3Ms"
   },
   "source": [
    "#### Discussion\n",
    "Write about and compare grid and randomized parameter search. How much time do they take? Which is more efficient or accurate? When should you use each?"
   ]
  },
  {
   "cell_type": "markdown",
   "metadata": {},
   "source": [
    "** Your discussion goes here **"
   ]
  },
  {
   "cell_type": "markdown",
   "metadata": {
    "id": "lIM0rEA9tlxu"
   },
   "source": [
    "## 3 Regression with MLPs\n",
    "\n",
    "### 3.1 (10%) - Learn a regression data set of your choice\n",
    "\n",
    "Train MLP on any real world data set that requires regression (i.e. has a real valued ouput) and discuss your effort and results.  While the [Irvine ML Repository](https://archive.ics.uci.edu) is a great resource, also onsider [Kaggle](https://www.kaggle.com) and [OpenML](https://openml.org) as other great places to find datasets.\n",
    "- Use [MLPRegressor](https://scikit-learn.org/stable/modules/generated/sklearn.neural_network.MLPRegressor.html#sklearn.neural_network.MLPRegressor) rather than MLPclassifier.  It has almost the exact same setup as MLPClassier except it uses the linear activation function for the output nodes and SSE as the loss function.  MLPClassier uses softmax activation for the output nodes and cross-entropy for the loss function.\n",
    "- Use any reasonable hyperparameters that you want.  \n",
    "- You will probably need to normalize input features.\n",
    "- It is not typically necessary to normalize the output.\n",
    "- Split into train and test and report the training and test set MAEs (Mean Absolute Error). For regression problems where we don't normalize the output, MAE is an intuitive measure as it shows exactly how much our output is off on average."
   ]
  },
  {
   "cell_type": "code",
   "execution_count": null,
   "metadata": {
    "id": "OFQv70W2VyqJ"
   },
   "outputs": [],
   "source": [
    "# Load and Learn a real world regression data set\n",
    "# To calculate MAE you could do a variation of the following\n",
    "\n",
    "from sklearn.metrics import mean_absolute_error\n",
    "print(mean_absolute_error(clf.predict(X_test), y_test))"
   ]
  },
  {
   "cell_type": "markdown",
   "metadata": {},
   "source": [
    "#### Discussion\n",
    "Report on your choice of data set and your results. How does the MLPRegressor differ from the MLPClassifier? What are their respective uses? What lessons from above did you use?"
   ]
  },
  {
   "cell_type": "markdown",
   "metadata": {},
   "source": [
    "** Your discussion goes here **"
   ]
  },
  {
   "cell_type": "markdown",
   "metadata": {},
   "source": [
    "### 3.2 (10%) - Other MLP Hyperparameters \n",
    "With the same data set, you may (not required) experiment with some of the hyperparameters you already did above (LR, hidden nodes, momentum, validation set parameters, regularization).  But for sure experiment with and discuss the results of the first two hyperparameters below (activation functions and multiple hidden layers).  We encourage you to experiment briefly with the others but they are not required. \n",
    "\n",
    "- different hidden layer activation functions (tanh, relu in addition to logistic) - Note that Sklearn does not currently let you choose the output layer activation function.  It is automatically softmax for classification and linear for regression.\n",
    "- more than one hidden layer\n",
    "- solver - try adam and lbfgs in addition to sgd\n",
    "- batch size\n",
    "- learning rate adaptation - this is the schedule parameter which lets LR adapt during learning"
   ]
  },
  {
   "cell_type": "code",
   "execution_count": null,
   "metadata": {
    "id": "Hu1JE4vStlxv"
   },
   "outputs": [],
   "source": [
    "# Run with different hyperparameters"
   ]
  },
  {
   "cell_type": "markdown",
   "metadata": {
    "id": "HScVQasltlxv"
   },
   "source": [
    "#### Discussion\n",
    "How do the hyperparameters affect your accuracy? Specifically the number of layers and nodes and activation functions you experimented with. Do the solver, batch size, and learning rate adaptation affect anything?\n"
   ]
  },
  {
   "cell_type": "markdown",
   "metadata": {},
   "source": [
    "** Your discussion goes here **"
   ]
  },
  {
   "cell_type": "markdown",
   "metadata": {
    "id": "cTlK-kijk8Mg"
   },
   "source": [
    "## 4. (Optional 20% extra credit) Code up your own MLP/Backprop learner \n",
    "Below is a scaffold you could use if you want. Requirements for this task:\n",
    "- Your model should support the methods shown in the example scaffold below.\n",
    "- Ability to create a network structure with at least one hidden layer and an arbitrary number of nodes. You may choose just one non-linear activation function for all hidden and output nodes if you want (e.g. sigmoid activation function where the loss is SSE rather than cross-entropy).\n",
    "- Random weight initialization with small random weights with 0 mean. Remember that every hidden and output node should have its own bias weight.\n",
    "- Use stochastic training updates: update weights after each training instance (i.e. not batch)\n",
    "- Option to include a momentum term\n",
    "- Your class can inherit from the relevant scikit-learn learners (e.g. data shuffling, etc.), but don't call any of the super methods to accomplish the core methods in the scaffold.\n",
    "- Run the Iris data set above with your Backprop version. Show and discuss your results and how they compare with the sklearn version.\n",
    "- Coding MLP is a good experience but is a little more challening than implementing other models so the extra credit points are higher than typical."
   ]
  },
  {
   "cell_type": "markdown",
   "metadata": {
    "id": "rokMDC3Qtlxv"
   },
   "source": [
    "*Discuss your results and any differences*"
   ]
  },
  {
   "cell_type": "code",
   "execution_count": null,
   "metadata": {
    "id": "hn8n_iR8tlxv"
   },
   "outputs": [],
   "source": [
    "from sklearn.base import BaseEstimator, ClassifierMixin\n",
    "\n",
    "class MLP(BaseEstimator,ClassifierMixin):\n",
    "\n",
    "    def __init__(self,lr=.1, momentum=0, shuffle=True,hidden_layer_widths=None):\n",
    "        \"\"\" Initialize class with chosen hyperparameters.\n",
    "\n",
    "        Args:\n",
    "            lr (float): A learning rate / step size.\n",
    "            shuffle(boolean): Whether to shuffle the training data each epoch. DO NOT SHUFFLE for evaluation / debug datasets.\n",
    "            momentum(float): The momentum coefficent \n",
    "        Optional Args (Args we think will make your life easier):\n",
    "            hidden_layer_widths (list(int)): A list of integers which defines the width of each hidden layer if hidden layer is none do twice as many hidden nodes as input nodes. (and then one more for the bias node)\n",
    "            For example: input width 1, then hidden layer will be 3 nodes\n",
    "        Example:\n",
    "            mlp = MLP(lr=.2,momentum=.5,shuffle=False,hidden_layer_widths = [3,3]),  <--- this will create a model with two hidden layers, both 3 nodes wide\n",
    "        \"\"\"\n",
    "        self.hidden_layer_widths\n",
    "        self.lr = lr\n",
    "        self.momentum = momentum\n",
    "        self.shuffle = shuffle\n",
    "\n",
    "\n",
    "    def fit(self, X, y, initial_weights=None):\n",
    "        \"\"\" Fit the data; run the algorithm and adjust the weights to find a good solution\n",
    "\n",
    "        Args:\n",
    "            X (array-like): A 2D numpy array with the training data, excluding targets\n",
    "            y (array-like): A 2D numpy array with the training targets\n",
    "        Optional Args (Args we think will make your life easier):\n",
    "            initial_weights (array-like): allows the user to provide initial weights\n",
    "        Returns:\n",
    "            self: this allows this to be chained, e.g. model.fit(X,y).predict(X_test)\n",
    "\n",
    "        \"\"\"\n",
    "        self.weights = self.initialize_weights() if not initial_weights else initial_weights\n",
    "\n",
    "        return self\n",
    "\n",
    "    def predict(self, X):\n",
    "        \"\"\" Predict all classes for a dataset X\n",
    "        Args:\n",
    "            X (array-like): A 2D numpy array with the training data, excluding targets\n",
    "        Returns:\n",
    "            array, shape (n_samples,)\n",
    "                Predicted target values per element in X.\n",
    "        \"\"\"\n",
    "        pass\n",
    "\n",
    "    def initialize_weights(self):\n",
    "        \"\"\" Initialize weights for perceptron. Don't forget the bias!\n",
    "\n",
    "        Returns:\n",
    "\n",
    "        \"\"\"\n",
    "\n",
    "        return [0]\n",
    "\n",
    "    def score(self, X, y):\n",
    "        \"\"\" Return accuracy of model on a given dataset. Must implement own score function.\n",
    "\n",
    "        Args:\n",
    "            X (array-like): A 2D numpy array with data, excluding targets\n",
    "            y (array-like): A 2D numpy array with targets\n",
    "\n",
    "        Returns:\n",
    "            score : float\n",
    "                Mean accuracy of self.predict(X) wrt. y.\n",
    "        \"\"\"\n",
    "\n",
    "        return 0\n",
    "\n",
    "    ###  Returns the weights. Not required but helpful for debugging\n",
    "    def get_weights(self):\n",
    "        pass\n"
   ]
  }
 ],
 "metadata": {
  "colab": {
   "collapsed_sections": [],
   "provenance": []
  },
  "kernelspec": {
   "display_name": "venv",
   "language": "python",
   "name": "python3"
  },
  "language_info": {
   "codemirror_mode": {
    "name": "ipython",
    "version": 3
   },
   "file_extension": ".py",
   "mimetype": "text/x-python",
   "name": "python",
   "nbconvert_exporter": "python",
   "pygments_lexer": "ipython3",
   "version": "3.13.3"
  }
 },
 "nbformat": 4,
 "nbformat_minor": 0
}
