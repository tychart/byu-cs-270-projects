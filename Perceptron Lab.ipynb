{
 "cells": [
  {
   "cell_type": "markdown",
   "metadata": {
    "id": "DVL7_bgmIAPR"
   },
   "source": [
    "# Perceptron Lab"
   ]
  },
  {
   "cell_type": "markdown",
   "metadata": {
    "id": "rBIfzcfn3QPO"
   },
   "source": [
    "This is the scaffold notebook for the perceptron lab and each lab will have a similar scaffold.  Make your own copy of this notebook and then you can fill in the tasks.  **You will fill in code boxes and test boxes with discussion for most tasks** and particularly discussion of results, graphs, etc. Good writing, grammar, punctuation, etc. are important and points will be taken off if these things are lacking. \n",
    "\n",
    "<b><u>In most cases just reporting results without discussion will not receive full credit.</u></b> Thus, your discussion should also include sentences like the following: This is because…  Note that the …  I was surprised to observe… I am not sure why …, but my hypothesis is that …\n",
    "\n",
    "Start by looking over the scikit-learn [user guide](https://scikit-learn.org/stable/user_guide.html) and carefully reading over the [perceptron documentation](https://scikit-learn.org/stable/modules/generated/sklearn.linear_model.Perceptron.html)."
   ]
  },
  {
   "cell_type": "code",
   "execution_count": 11,
   "metadata": {
    "id": "6ZbYjZZZ_yLV"
   },
   "outputs": [],
   "source": [
    "# imports\n",
    "import numpy as np\n",
    "from scipy.io import arff\n",
    "import pandas as pd"
   ]
  },
  {
   "cell_type": "markdown",
   "metadata": {
    "id": "KibCIXIThpbE"
   },
   "source": [
    "## 1. Debug and Evaluation\n",
    "\n",
    "For most labs we will give you some data and expected results so that you can verify that you are doing things right and getting appropriate results.  We will then have you run on some other data with the exact same hyperparameters so we can see if your results are correct. \n",
    "\n",
    "### 1.1 Debug (5%)\n",
    "Download this [data set](https://raw.githubusercontent.com/cs472ta/CS472/master/datasets/linsep2nonorigin.arff) into your local directory and name it debug.arff.  To download rather than view, right-click the link and save as.  To allow consistent results run the Perceptron using the following hyperparameters:\n",
    "- Learning rate = .1\n",
    "- Do NOT shuffle the data after every epoch like you would normally do\n",
    "- Learn for a maximum of 10 epochs\n",
    "- Start all weights at 0 (which is the default for this scikit-learn implementation)  \n",
    "\n",
    "Your results should be:\n",
    "Accuracy = [.875]\\\n",
    "Final Weights = [[-0.23  0.18]]\\\n",
    "[-0.1] - This last weight is the bias weight, which they call the intercept.\n",
    "\n",
    "To help you with this first task, following is one detailed variation that would do this for you. You may use your own variation.  Note that commonly used variable names in the community are clf (classifier), X (array of input features), y (vector of output labels)."
   ]
  },
  {
   "cell_type": "code",
   "execution_count": 12,
   "metadata": {
    "id": "KgAyy82gixIF"
   },
   "outputs": [
    {
     "name": "stdout",
     "output_type": "stream",
     "text": [
      "[[-0.24  0.2 ]]\n",
      "[-0.1]\n",
      "1.0\n"
     ]
    },
    {
     "name": "stderr",
     "output_type": "stream",
     "text": [
      "/home/tychart/projects/byu-cs-270-projects/venv/lib/python3.13/site-packages/sklearn/linear_model/_stochastic_gradient.py:726: ConvergenceWarning: Maximum number of iteration reached before convergence. Consider increasing max_iter to improve the fit.\n",
      "  warnings.warn(\n"
     ]
    }
   ],
   "source": [
    "from sklearn.linear_model import Perceptron\n",
    "\n",
    "Data_Set = arff.loadarff('datasets/debug.arff')\n",
    "Data_Set_df = pd.DataFrame(Data_Set[0])\n",
    "Data_Set_np = Data_Set_df.to_numpy()\n",
    "Data_Set_np = Data_Set_np.astype(float)\n",
    "X = Data_Set_np[:, :-1]\n",
    "y = Data_Set_np[:, -1]\n",
    "\n",
    "clf = Perceptron(shuffle=False, verbose=0, eta0=.1, max_iter=11)\n",
    "clf.fit(X, y)\n",
    "print(clf.coef_)\n",
    "print(clf.intercept_)\n",
    "print(clf.score(X, y))"
   ]
  },
  {
   "cell_type": "markdown",
   "metadata": {},
   "source": [
    "Notes:\n",
    "* If you increase (or just remove) max_iter your perceptron will converge to 100% in one more epoch.  Try it!\n",
    "* verbose (integer) specifies how much info you get after each epoch.  It does not change results.  Try it with 0.\n",
    "    * Norm is a measure of the total weight magnitudes in the current model.\n",
    "    * NNZs is the number of non-zero weights there currently are (not including the bias).\n",
    "    * clf.intercept_ is the value of the bias weight, NOT the actual y-intercept of the decision surface, though it will affect that.\n",
    "    * T is the total number of weight updates so far.  In this case all the weights were updated each epoch.\n",
    "    * Avg. loss is another measure of error.  More on that later.\n",
    "    * The activation function outputs 1 if net > 0, else 0."
   ]
  },
  {
   "cell_type": "markdown",
   "metadata": {
    "id": "kY3VNB1ui03N"
   },
   "source": [
    "### 1.2 (5%) Evaluation\n",
    "\n",
    "Now train a perceptron model  on the [banknote authentication dataset](https://raw.githubusercontent.com/cs472ta/CS472/master/datasets/data_banknote_authentication.arff) and report the final accuracy, weights, and bias. Use the exact same hyperparameters as the debug dataset. The most common reason for results not matching ours is not exactly using the same hyperparameters (e.g. initial weights, training exactly 10 epochs, no shuffling, etc.) Hint: Throughout these labs for the numerous cases where you are doing the same task, but with different data (e.g. debug, eval), you could create a function where you just pass the data set name, so as not to recreate the code multiple times."
   ]
  },
  {
   "cell_type": "code",
   "execution_count": 37,
   "metadata": {
    "id": "2yAxA78QjDh2"
   },
   "outputs": [
    {
     "name": "stdout",
     "output_type": "stream",
     "text": [
      "-- Epoch 1\n",
      "Norm: 1.42, NNZs: 4, Bias: 2.100000, T: 1372, Avg. loss: 0.023615\n",
      "Total training time: 0.00 seconds.\n",
      "-- Epoch 2\n",
      "Norm: 2.90, NNZs: 4, Bias: 2.600000, T: 2744, Avg. loss: 0.022359\n",
      "Total training time: 0.00 seconds.\n",
      "-- Epoch 3\n",
      "Norm: 3.62, NNZs: 4, Bias: 3.500000, T: 4116, Avg. loss: 0.028435\n",
      "Total training time: 0.00 seconds.\n",
      "-- Epoch 4\n",
      "Norm: 4.36, NNZs: 4, Bias: 3.700000, T: 5488, Avg. loss: 0.013195\n",
      "Total training time: 0.00 seconds.\n",
      "-- Epoch 5\n",
      "Norm: 4.51, NNZs: 4, Bias: 4.300000, T: 6860, Avg. loss: 0.015216\n",
      "Total training time: 0.00 seconds.\n",
      "-- Epoch 6\n",
      "Norm: 4.70, NNZs: 4, Bias: 4.700000, T: 8232, Avg. loss: 0.026061\n",
      "Total training time: 0.00 seconds.\n",
      "-- Epoch 7\n",
      "Norm: 5.40, NNZs: 4, Bias: 4.600000, T: 9604, Avg. loss: 0.018060\n",
      "Total training time: 0.00 seconds.\n",
      "-- Epoch 8\n",
      "Norm: 5.83, NNZs: 4, Bias: 4.800000, T: 10976, Avg. loss: 0.018378\n",
      "Total training time: 0.00 seconds.\n",
      "-- Epoch 9\n",
      "Norm: 5.88, NNZs: 4, Bias: 5.200000, T: 12348, Avg. loss: 0.015085\n",
      "Total training time: 0.00 seconds.\n",
      "Convergence after 9 epochs took 0.00 seconds\n",
      "[[-4.28857497 -2.390381   -3.0160324  -1.1686672 ]]\n",
      "[5.2]\n",
      "0.9766763848396501\n"
     ]
    }
   ],
   "source": [
    "# Load evaluation data\n",
    "# Train on the evaluation data\n",
    "# print your accuracy and weights. Do not enter these values by hand.\n",
    "\n",
    "def train_from_dataset(dataset_name: str, shuffle=False, verbose=0, learning_rate=.1, max_iter=10):\n",
    "    Data_Set = arff.loadarff(f'datasets/{dataset_name}')\n",
    "    Data_Set_df = pd.DataFrame(Data_Set[0])\n",
    "    Data_Set_np = Data_Set_df.to_numpy()\n",
    "    Data_Set_np = Data_Set_np.astype(float)\n",
    "    X = Data_Set_np[:, :-1]\n",
    "    y = Data_Set_np[:, -1]\n",
    "\n",
    "    train_from_weights_arrs(X, y, shuffle, verbose, learning_rate, max_iter)\n",
    "\n",
    "    # clf = Perceptron(shuffle=shuffle, verbose=verbose, eta0=learning_rate, max_iter=max_iter)\n",
    "    # clf.fit(X, y)\n",
    "    # print(clf.coef_)\n",
    "    # print(clf.intercept_)\n",
    "    # print(clf.score(X, y))\n",
    "\n",
    "def train_from_weights_arrs(weights, classifiers, shuffle=False, verbose=0, learning_rate=.1, max_iter=10):\n",
    "    clf = Perceptron(shuffle=shuffle, verbose=verbose, eta0=learning_rate, max_iter=max_iter)\n",
    "    clf.fit(weights, classifiers)\n",
    "    print(clf.coef_)\n",
    "    print(clf.intercept_)\n",
    "    print(clf.score(weights, classifiers))\n",
    "\n",
    "train_from_dataset(\"data_banknote_authentication.arff\", verbose=1, max_iter=10)\n"
   ]
  },
  {
   "cell_type": "markdown",
   "metadata": {
    "id": "U-4J5VcS9umq"
   },
   "source": [
    "#### Discussion\n",
    "Open the box below and type in your discussion.  Note that after each exercise you will have a chance to discuss your effort and results. What was your final accuracy? What was your experience running on the banknote authentication dataset? "
   ]
  },
  {
   "cell_type": "markdown",
   "metadata": {},
   "source": [
    "The final accuracy is 0.9766763848396501, the final weights are [[-4.28857497 -2.390381   -3.0160324  -1.1686672 ]], and the bias is 5.2.\n",
    "\n",
    "When I was working on this, my final accuracy was 97.7%. My experiance running the dataset was pretty easy, I just used the code from above and abstracted it a bit. Honestly I am still pretty confused in general."
   ]
  },
  {
   "cell_type": "markdown",
   "metadata": {
    "id": "9vWiTdlbR2Xh"
   },
   "source": [
    "## 2. Classifying on linearly separable and non-linearly separable data\n",
    "\n",
    "### 2.1 (5%) Create 2 datasets\n",
    "\n",
    "- Both with 8 instances using 2 real valued inputs with 4 instances from each class. \n",
    "- One data set should be linearly separable and the other not.\n",
    "- Show or print your datasets"
   ]
  },
  {
   "cell_type": "code",
   "execution_count": 14,
   "metadata": {
    "id": "4SSoasDQSKXb"
   },
   "outputs": [
    {
     "data": {
      "text/plain": [
       "'\\n@relation seperable2point1\\n@attribute x real\\n@attribute y real\\n@attribute class {0,1}\\n@data\\n0.1, 0.3, 1\\n0.2, 0.4, 1\\n0.4, 0.36, 1\\n0.7, 0.34, 1\\n-0.2, 0.04, 0\\n-0.6, -0.2, 0\\n-0.8, -0.4, 0\\n-0.7, -0.2, 0\\n\\n\\n\\n@relation nonseperable2point1\\n@attribute a1 real\\n@attribute a2 real\\n@attribute class {0,1}\\n@data\\n0.1, 0.3, 1\\n0.2, 0.4, 1\\n0.4, 0.36, 1\\n0.7, 0.34, 1\\n-0.2, 0.04, 0\\n-0.6, -0.2, 0\\n0.8, -0.4, 0\\n0.7, 0.6, 0\\n'"
      ]
     },
     "execution_count": 14,
     "metadata": {},
     "output_type": "execute_result"
    }
   ],
   "source": [
    "# Create and show the 2 datasets. \n",
    "# You could do it here in Python or create arff files in your local folder with a text editor.  Either way show your dataset.\n",
    "\n",
    "\"\"\"\n",
    "@relation seperable2point1\n",
    "@attribute x real\n",
    "@attribute y real\n",
    "@attribute class {0,1}\n",
    "@data\n",
    "0.1, 0.3, 1\n",
    "0.2, 0.4, 1\n",
    "0.4, 0.36, 1\n",
    "0.7, 0.34, 1\n",
    "-0.2, 0.04, 0\n",
    "-0.6, -0.2, 0\n",
    "-0.8, -0.4, 0\n",
    "-0.7, -0.2, 0\n",
    "\n",
    "\n",
    "\n",
    "@relation nonseperable2point1\n",
    "@attribute a1 real\n",
    "@attribute a2 real\n",
    "@attribute class {0,1}\n",
    "@data\n",
    "0.1, 0.3, 1\n",
    "0.2, 0.4, 1\n",
    "0.4, 0.36, 1\n",
    "0.7, 0.34, 1\n",
    "-0.2, 0.04, 0\n",
    "-0.6, -0.2, 0\n",
    "0.8, -0.4, 0\n",
    "0.7, 0.6, 0\n",
    "\"\"\""
   ]
  },
  {
   "cell_type": "markdown",
   "metadata": {
    "id": "SIRG42TgSR4x"
   },
   "source": [
    "### 2.2 (5%) Train on both sets using the scikit-learn perceptron model\n",
    "- Train on each and print the results. Train until convergence (i.e. use the default max_iter by simply not specifying it).\n",
    "- You may choose your other hyperparameters."
   ]
  },
  {
   "cell_type": "code",
   "execution_count": 22,
   "metadata": {
    "id": "KBGUn43ASiXW"
   },
   "outputs": [
    {
     "name": "stdout",
     "output_type": "stream",
     "text": [
      "Dataset 1\n",
      "-- Epoch 1\n",
      "Norm: 0.04, NNZs: 2, Bias: 0.000000, T: 8, Avg. loss: 0.012400\n",
      "Total training time: 0.00 seconds.\n",
      "-- Epoch 2\n",
      "Norm: 0.04, NNZs: 2, Bias: 0.000000, T: 16, Avg. loss: 0.000000\n",
      "Total training time: 0.00 seconds.\n",
      "-- Epoch 3\n",
      "Norm: 0.04, NNZs: 2, Bias: 0.000000, T: 24, Avg. loss: 0.000000\n",
      "Total training time: 0.00 seconds.\n",
      "-- Epoch 4\n",
      "Norm: 0.04, NNZs: 2, Bias: 0.000000, T: 32, Avg. loss: 0.000000\n",
      "Total training time: 0.00 seconds.\n",
      "-- Epoch 5\n",
      "Norm: 0.04, NNZs: 2, Bias: 0.000000, T: 40, Avg. loss: 0.000000\n",
      "Total training time: 0.00 seconds.\n",
      "-- Epoch 6\n",
      "Norm: 0.04, NNZs: 2, Bias: 0.000000, T: 48, Avg. loss: 0.000000\n",
      "Total training time: 0.00 seconds.\n",
      "-- Epoch 7\n",
      "Norm: 0.04, NNZs: 2, Bias: 0.000000, T: 56, Avg. loss: 0.000000\n",
      "Total training time: 0.00 seconds.\n",
      "Convergence after 7 epochs took 0.00 seconds\n",
      "[[0.03  0.026]]\n",
      "[0.]\n",
      "1.0\n",
      "Dataset 2\n",
      "-- Epoch 1\n",
      "Norm: 0.08, NNZs: 2, Bias: -0.100000, T: 8, Avg. loss: 0.014100\n",
      "Total training time: 0.00 seconds.\n",
      "-- Epoch 2\n",
      "Norm: 0.09, NNZs: 2, Bias: -0.100000, T: 16, Avg. loss: 0.012130\n",
      "Total training time: 0.00 seconds.\n",
      "-- Epoch 3\n",
      "Norm: 0.12, NNZs: 2, Bias: -0.100000, T: 24, Avg. loss: 0.010160\n",
      "Total training time: 0.00 seconds.\n",
      "-- Epoch 4\n",
      "Norm: 0.09, NNZs: 2, Bias: -0.200000, T: 32, Avg. loss: 0.009990\n",
      "Total training time: 0.00 seconds.\n",
      "-- Epoch 5\n",
      "Norm: 0.10, NNZs: 2, Bias: -0.200000, T: 40, Avg. loss: 0.030795\n",
      "Total training time: 0.00 seconds.\n",
      "-- Epoch 6\n",
      "Norm: 0.16, NNZs: 2, Bias: -0.100000, T: 48, Avg. loss: 0.031050\n",
      "Total training time: 0.00 seconds.\n",
      "-- Epoch 7\n",
      "Norm: 0.13, NNZs: 2, Bias: -0.200000, T: 56, Avg. loss: 0.011105\n",
      "Total training time: 0.00 seconds.\n",
      "-- Epoch 8\n",
      "Norm: 0.14, NNZs: 2, Bias: -0.200000, T: 64, Avg. loss: 0.030260\n",
      "Total training time: 0.00 seconds.\n",
      "Convergence after 8 epochs took 0.00 seconds\n",
      "[[-0.06   0.128]]\n",
      "[-0.2]\n",
      "0.5\n"
     ]
    }
   ],
   "source": [
    "# Train and print results with both datasets \n",
    "\n",
    "print(\"Dataset 1\")\n",
    "\n",
    "train_from_dataset(\"customdataset1.arff\", verbose=1, max_iter=10)\n",
    "\n",
    "print(\"Dataset 2\")\n",
    "\n",
    "train_from_dataset(\"customdataset2.arff\", verbose=1, max_iter=10)\n"
   ]
  },
  {
   "cell_type": "markdown",
   "metadata": {
    "id": "890A39KX9zLC"
   },
   "source": [
    "#### Discussion\n",
    "What is different about the two runs? What makes one dataset not linearly separable? What is the result of the training? What is the accuracy of the two models?"
   ]
  },
  {
   "cell_type": "markdown",
   "metadata": {},
   "source": [
    "** Your discussion goes here **\n",
    "\n",
    "One of the datasets took 7 epocs to figure out the correct weights for a line that correctly seperates the data, and the final line had a success rate of 100%. On the other hand, the non-linearly seperable dataset took 8 epochs to reach a line that only correctly seperates 50% of the points in the dataset.\n",
    "\n",
    "#### What makes one dataset not linearly separable? \n",
    "The reason the second dataset is not linearly seperable is because there does not exist a line that will seperate the points that should activate the perceptron vs the points that should not activate it. \n",
    "\n",
    "#### What is the result of the training? \n",
    "\n",
    "For the first dataset, the result is a line that perfectly seperates the non-activation group from the activation group. From the second dataset, the result is a line that does not correctly seperate the groups with 100% accuracy.\n",
    "\n",
    "#### What is the accuracy of the two models?\n",
    "\n",
    "Dataset 1 gives 100% accuracy model, while dataset 2 resulted in a 50% acuracy rate."
   ]
  },
  {
   "cell_type": "markdown",
   "metadata": {
    "id": "v19fpixqTe-7"
   },
   "source": [
    "### 2.3 (10%) Graph the datasets and their corresponding decision line\n",
    " \n",
    " - Graph each dataset\n",
    " - Use your trained perceptrons above to determine each dataset's decision line\n",
    "    - We discssed how to find the slope and intercept in class and the equation is in the Perceptron slides\n",
    " - For all graphs always label the axes!\n",
    " - Following are examples of what graphs could look like\n",
    " \n",
    "![Linearly Separable Data](https://raw.githubusercontent.com/rmorain/CS472-1/master/images/perceptron/linearly_separable.png)\n",
    "\n",
    "![Not Linearly Separable](https://raw.githubusercontent.com/rmorain/CS472-1/master/images/perceptron/not_linearly_separable.png)"
   ]
  },
  {
   "cell_type": "code",
   "execution_count": 31,
   "metadata": {
    "colab": {
     "base_uri": "https://localhost:8080/",
     "height": 312
    },
    "id": "8l64tZUqCEwy",
    "outputId": "d111d17a-4813-4e52-c0df-3790ebe6f7b6"
   },
   "outputs": [
    {
     "data": {
      "image/png": "[encoded data removed]",
      "text/plain": [
       "<Figure size 640x480 with 1 Axes>"
      ]
     },
     "metadata": {},
     "output_type": "display_data"
    },
    {
     "name": "stdout",
     "output_type": "stream",
     "text": [
      "slope: '0.46875', intercept: '1.5625'\n"
     ]
    },
    {
     "data": {
      "image/png": "[encoded data removed]",
      "text/plain": [
       "<Figure size 640x480 with 1 Axes>"
      ]
     },
     "metadata": {},
     "output_type": "display_data"
    }
   ],
   "source": [
    "# Sample Graph code, You can use any graphing approach you want including this one.\n",
    "# We encourage you to use matplotlib.\n",
    "import matplotlib.pyplot as plt\n",
    "\n",
    "\n",
    "def calc_slope(w1, w2):\n",
    "    return -w1 / w2\n",
    "\n",
    "def calc_intercept(w2, bias):\n",
    "    return -bias / w2\n",
    "    \n",
    "\n",
    "# The data in this example is made up.  You will use your real data.\n",
    "# data = np.array([[-.9,-.9],[-.6,.6],[-.3,.3],[-.1,.1],[.1,.456],[.3,-.324],[.6,.778],[.9,-.76]])\n",
    "# labels = np.array([0,0,0,0,1,1,1,1])\n",
    "\n",
    "# Real Data\n",
    "\n",
    "data = np.array([\n",
    "    [0.1, 0.3],\n",
    "    [0.2, 0.4],\n",
    "    [0.4, 0.36],\n",
    "    [0.7, 0.34],\n",
    "    [-0.2, 0.04],\n",
    "    [-0.6, -0.2],\n",
    "    [-0.8, -0.4],\n",
    "    [-0.7, -0.2]\n",
    "])\n",
    "labels = np.array([0,0,0,0,1,1,1,1])\n",
    "\n",
    "# Create a scatter plot of data\n",
    "plt.xlim(-1,1)\n",
    "plt.ylim(-1,1)\n",
    "scatter = plt.scatter(data[:,0], data[:,1], c = labels, s=200, cmap='seismic')\n",
    "legend = plt.legend(*scatter.legend_elements(num=1), title=\"Class\", loc='upper right') # Legend\n",
    "\n",
    "# Plot the learned separator.  We just made up the slope and intercept for this example. You need to calculate \n",
    "# the correct slope and intercept using your learned weights and bias.\n",
    "xlist = np.linspace(-1.0, 1.0, 100) # create 100 evenly spaced points between -1 and 1 for the x axis\n",
    "ylist = np.linspace(-1.0, 1.0, 100) # create 100 evenly spaced points between -1 and 1 for the y axis\n",
    "\n",
    "\n",
    "\n",
    "# Final Weights [0.03  0.026]\n",
    "\n",
    "slope = calc_slope(0.03, 0.026)  # w1 and w2\n",
    "intercept = calc_intercept(0.026, 0) # w2 and bias\n",
    "eq = slope*xlist + intercept\n",
    "plt.plot(xlist,  eq, '-k', )\n",
    "plt.title('Linearly Separable Data')\n",
    "plt.xlabel('x')\n",
    "plt.ylabel('y')\n",
    "plt.grid() # add grid lines\n",
    "plt.show() # show the plot\n",
    "\n",
    "\n",
    "\n",
    "\n",
    "\n",
    "\n",
    "\n",
    "# Sample Graph code, You can use any graphing approach you want including this one.\n",
    "# We encourage you to use matplotlib.\n",
    "import matplotlib.pyplot as plt\n",
    "\n",
    "# The data in this example is made up.  You will use your real data.\n",
    "# data = np.array([[-.9,-.9],[-.6,.6],[-.3,.3],[-.1,.1],[.1,.456],[.3,-.324],[.6,.778],[.9,-.76]])\n",
    "# labels = np.array([0,0,0,0,1,1,1,1])\n",
    "\n",
    "# Real Data\n",
    "\n",
    "data = np.array([\n",
    "    [0.1, 0.3],\n",
    "    [0.2, 0.4],\n",
    "    [0.4, 0.36],\n",
    "    [0.7, 0.34],\n",
    "    [-0.2, 0.04],\n",
    "    [-0.6, -0.2],\n",
    "    [0.8, -0.4],\n",
    "    [0.7, 0.6]\n",
    "])\n",
    "labels = np.array([0,0,0,0,1,1,1,1])\n",
    "\n",
    "# Create a scatter plot of data\n",
    "plt.xlim(-1,1)\n",
    "plt.ylim(-1,1)\n",
    "scatter = plt.scatter(data[:,0], data[:,1], c = labels, s=200, cmap='seismic')\n",
    "legend = plt.legend(*scatter.legend_elements(num=1), title=\"Class\", loc='upper right') # Legend\n",
    "\n",
    "# Plot the learned separator.  We just made up the slope and intercept for this example. You need to calculate \n",
    "# the correct slope and intercept using your learned weights and bias.\n",
    "xlist = np.linspace(-1.0, 1.0, 100) # create 100 evenly spaced points between -1 and 1 for the x axis\n",
    "ylist = np.linspace(-1.0, 1.0, 100) # create 100 evenly spaced points between -1 and 1 for the y axis\n",
    "\n",
    "# [[-0.06   0.128]]\n",
    "# [-0.2]\n",
    "\n",
    "slope = calc_slope(-0.06, 0.128)  # w1 and w2\n",
    "intercept = calc_intercept(0.128, -0.2) # w2 and bias\n",
    "\n",
    "print(f\"slope: '{slope}', intercept: '{intercept}'\")\n",
    "\n",
    "eq = slope*xlist + intercept\n",
    "plt.plot(xlist,  eq, '-k', )\n",
    "plt.title('Non-Linearly Separable Data')\n",
    "plt.xlabel('x')\n",
    "plt.ylabel('y')\n",
    "plt.grid() # add grid lines\n",
    "plt.show() # show the plot"
   ]
  },
  {
   "cell_type": "code",
   "execution_count": 7,
   "metadata": {
    "id": "ZCPFUAGTS2sX"
   },
   "outputs": [],
   "source": [
    "# Graph datasets and decision lines for both cases."
   ]
  },
  {
   "cell_type": "markdown",
   "metadata": {
    "id": "M7dyHR0c92zd"
   },
   "source": [
    "#### Discussion\n",
    "What makes a dataset not linearly separable? How is the decision line determined? slope? y-intercept?"
   ]
  },
  {
   "cell_type": "markdown",
   "metadata": {},
   "source": [
    "** Your discussion goes here **\n",
    "\n",
    "A dataset is not linearly seperable if a straght line can not seperate the 2 classes of data in the dataset. The decision line is determined by wheather or not the perceptrion will fire. The slope and y intersept can be extrapolated from the final set of weights as making up the decision line and exactly where it is on a graph. Using this data, we don't need the weights anymore, as we can see whether or not the datapoints are over the line or not. "
   ]
  },
  {
   "cell_type": "markdown",
   "metadata": {
    "id": "_N5RXV8AzdRF"
   },
   "source": [
    "### 2.4 (5%) Discussion - In general, why will perceptrons not get perfect accuracy on non-linearly separable data"
   ]
  },
  {
   "cell_type": "markdown",
   "metadata": {
    "id": "0hSjHuLdzdRF"
   },
   "source": [
    "** Your discussion goes here **\n",
    "\n",
    "If there does not exist a straght line that can seperate the 2 classes in the dataset, then any resulting line from the perceptron will always have some errors as the outlier data points that are on the wrong side of the line are not classified correctly, thus leading to imperfect accuracy."
   ]
  },
  {
   "cell_type": "markdown",
   "metadata": {
    "id": "0ySvhd1lUGSe"
   },
   "source": [
    "## 3. Use the perceptron to learn this version of the [voting data set](https://raw.githubusercontent.com/cs472ta/CS472/master/datasets/voting-dataset.arff)\n",
    "\n",
    "This particular task is an edited version of the standard voting set, where we have replaced all the “don’t know” values with the most common value for the particular attribute. Look at the [tutorial](https://github.com/cs472ta/CS472/blob/master/Tutorial.ipynb) from the Labs Content page to see examples of prepping the voting data set for sklearn.\n",
    "\n",
    "### 3.1 (10%) Average final training and test set accuracy over multiple trials\n",
    "\n",
    "- Learn the voting data five times with different random 70/30 Training/Test splits each time\n",
    "- Use a learning rate of 1.  The other hyperparameters are up to you.\n",
    "- Report the 5 trials and the average training and test accuracy and number of epochs to converge across the 5 trials in a table \n",
    "    - Below is an example of what a 2 trial table might look like\n",
    "\n",
    "| Trial | Training Accuracy | Test accuracy | Number of epochs |\n",
    "| --- | --- | --- | --- |\n",
    "| 1 | .950 | .550 | 4 |\n",
    "| 2 | .850 | .450 | 6 |\n",
    "| Average | .900 | .500 | 5 | \n",
    "\n",
    "*- As a rough sanity check, typical Perceptron test accuracies for the voting data set are 90%-98%.*\n"
   ]
  },
  {
   "cell_type": "code",
   "execution_count": 41,
   "metadata": {
    "id": "Romyl4G8Trki"
   },
   "outputs": [
    {
     "name": "stdout",
     "output_type": "stream",
     "text": [
      "[[], [], [], [], [], [], [], [], [], [], [], [], [], [], [], [], [], [], [], [], [], [], [], [], [], [], [], [], [], [], [], [], [], [], [], [], [], [], [], [], [], [], [], [], [], [], [], [], [], [], [], [], [], [], [], [], [], [], [], [], [], [], [], [], [], [], [], [], [], [], [], [], [], [], [], [], [], [], [], [], [], [], [], [], [], [], [], [], [], [], [], [], [], [], [], [], [], [], [], [], [], [], [], [], [], [], [], [], [], [], [], [], [], [], [], [], [], [], [], [], [], [], [], [], [], [], [], [], [], [], [], [], [], [], [], [], [], [], [], [], [], [], [], [], [], [], [], [], [], [], [], [], [], [], [], [], [], [], [], [], [], [], [], [], [], [], [], [], [], [], [], [], [], [], [], [], [], [], [], [], [], [], [], [], [], [], [], [], [], [], [], [], [], [], [], [], [], [], [], [], [], [], [], [], [], [], [], [], [], [], [], [], [], [], [], [], [], [], [], [], [], [], [], [], [], [], [], [], [], [], [], [], [], [], [], [], [], [], [], [], [], [], [], [], [], [], [], [], [], [], [], [], [], [], [], [], [], [], [], [], [], [], [], [], [], [], [], [], [], [], [], [], [], [], [], [], [], [], [], [], [], [], [], [], [], [], [], [], [], [], [], [], [], [], [], [], [], [], [], [], [], [], [], [], [], [], [], [], [], [], [], [], [], [], [], [], [], [], [], [], [], [], [], [], [], [], [], [], [], [], [], [], [], [], [], [], [], [], [], [], [], [], [], [], [], [], [], [], [], [], [], [], [], [], [], [], [], [], [], [], [], [], [], [], [], [], [], [], [], [], [], [], [], [], [], [], [], [], [], [], [], [], [], [], [], [], [], [], [], [], [], [], [], [], [], [], [], [], [], [], [], [], [], [], [], [], [], [], [], [], [], [], [], [], [], [], [], [], [], [], [], [], [], [], [], [], [], [], [], [], [], [], [], [], [], [], [], [], [], [], [], [], [], [], [], [], [], [], [], [], [], [], [], [], [], [], [], [], [], [], []]\n",
      "[b'democrat' b'republican' b'democrat' b'democrat' b'democrat' b'democrat'\n",
      " b'democrat' b'democrat' b'democrat' b'democrat' b'democrat' b'democrat'\n",
      " b'republican' b'republican' b'republican' b'republican' b'republican'\n",
      " b'republican' b'republican' b'republican' b'republican' b'republican'\n",
      " b'republican' b'republican' b'republican' b'republican' b'republican'\n",
      " b'republican' b'democrat' b'democrat' b'democrat' b'democrat' b'democrat'\n",
      " b'republican' b'republican' b'democrat' b'republican' b'republican'\n",
      " b'democrat' b'democrat' b'republican' b'republican' b'democrat'\n",
      " b'democrat' b'republican' b'democrat' b'democrat' b'democrat' b'democrat'\n",
      " b'democrat' b'democrat' b'democrat' b'democrat' b'democrat' b'republican'\n",
      " b'democrat' b'republican' b'democrat' b'democrat' b'republican'\n",
      " b'democrat' b'republican' b'republican' b'republican' b'republican'\n",
      " b'democrat' b'democrat' b'democrat' b'democrat' b'democrat' b'democrat'\n",
      " b'democrat' b'democrat' b'democrat' b'democrat' b'republican' b'democrat'\n",
      " b'republican' b'democrat' b'republican' b'democrat' b'republican'\n",
      " b'republican' b'republican' b'republican' b'republican' b'democrat'\n",
      " b'republican' b'democrat' b'democrat' b'democrat' b'republican'\n",
      " b'republican' b'republican' b'democrat' b'democrat' b'democrat'\n",
      " b'republican' b'democrat' b'republican' b'democrat' b'democrat'\n",
      " b'democrat' b'democrat' b'democrat' b'republican' b'democrat' b'democrat'\n",
      " b'republican' b'republican' b'republican' b'democrat' b'republican'\n",
      " b'republican' b'democrat' b'republican' b'democrat' b'democrat'\n",
      " b'democrat' b'democrat' b'democrat' b'democrat' b'democrat' b'democrat'\n",
      " b'democrat' b'republican' b'democrat' b'democrat' b'democrat' b'democrat'\n",
      " b'democrat' b'democrat' b'republican' b'republican' b'democrat'\n",
      " b'democrat' b'democrat' b'republican' b'democrat' b'republican'\n",
      " b'democrat' b'democrat' b'democrat' b'republican' b'democrat'\n",
      " b'republican' b'republican' b'republican' b'republican' b'republican'\n",
      " b'democrat' b'republican' b'republican' b'democrat' b'democrat'\n",
      " b'democrat' b'democrat' b'democrat' b'republican' b'republican'\n",
      " b'republican' b'republican' b'republican' b'democrat' b'democrat'\n",
      " b'democrat' b'republican' b'republican' b'republican' b'democrat'\n",
      " b'democrat' b'democrat' b'republican' b'democrat' b'republican'\n",
      " b'democrat' b'republican' b'democrat' b'democrat' b'democrat'\n",
      " b'republican' b'republican' b'republican' b'democrat' b'republican'\n",
      " b'democrat' b'democrat' b'democrat' b'democrat' b'republican' b'democrat'\n",
      " b'democrat' b'republican' b'republican' b'democrat' b'democrat'\n",
      " b'democrat' b'republican' b'democrat' b'democrat' b'democrat' b'democrat'\n",
      " b'republican' b'democrat' b'democrat' b'democrat' b'democrat' b'democrat'\n",
      " b'democrat' b'democrat' b'democrat' b'democrat' b'democrat' b'democrat'\n",
      " b'republican' b'democrat' b'republican' b'republican' b'democrat'\n",
      " b'democrat' b'democrat' b'republican' b'democrat' b'republican'\n",
      " b'democrat' b'democrat' b'democrat' b'democrat' b'democrat' b'democrat'\n",
      " b'republican' b'democrat' b'republican' b'republican' b'democrat'\n",
      " b'democrat' b'democrat' b'republican' b'democrat' b'democrat'\n",
      " b'republican' b'democrat' b'democrat' b'republican' b'democrat'\n",
      " b'democrat' b'democrat' b'democrat' b'democrat' b'republican'\n",
      " b'republican' b'republican' b'democrat' b'democrat' b'republican'\n",
      " b'republican' b'republican' b'republican' b'democrat' b'republican'\n",
      " b'democrat' b'republican' b'democrat' b'democrat' b'democrat'\n",
      " b'republican' b'republican' b'democrat' b'republican' b'democrat'\n",
      " b'democrat' b'democrat' b'democrat' b'republican' b'republican'\n",
      " b'democrat' b'republican' b'republican' b'democrat' b'republican'\n",
      " b'democrat' b'democrat' b'republican' b'republican' b'democrat'\n",
      " b'democrat' b'democrat' b'democrat' b'democrat' b'democrat' b'democrat'\n",
      " b'democrat' b'republican' b'republican' b'democrat' b'democrat'\n",
      " b'democrat' b'democrat' b'democrat' b'republican' b'republican'\n",
      " b'democrat' b'republican' b'republican' b'republican' b'republican'\n",
      " b'democrat' b'republican' b'republican' b'republican' b'democrat'\n",
      " b'democrat' b'democrat' b'democrat' b'democrat' b'democrat' b'democrat'\n",
      " b'democrat' b'democrat' b'democrat' b'democrat' b'republican'\n",
      " b'republican' b'democrat' b'democrat' b'democrat' b'republican'\n",
      " b'democrat' b'republican' b'republican' b'republican' b'republican'\n",
      " b'republican' b'democrat' b'republican' b'democrat' b'republican'\n",
      " b'democrat' b'democrat' b'republican' b'republican' b'republican'\n",
      " b'democrat' b'democrat' b'democrat' b'democrat' b'democrat' b'democrat'\n",
      " b'democrat' b'democrat' b'republican' b'democrat' b'democrat'\n",
      " b'republican' b'democrat' b'democrat' b'republican' b'democrat'\n",
      " b'democrat' b'democrat' b'democrat' b'republican' b'democrat' b'democrat'\n",
      " b'democrat' b'republican' b'republican' b'democrat' b'democrat'\n",
      " b'republican' b'democrat' b'republican' b'republican' b'republican'\n",
      " b'democrat' b'republican' b'democrat' b'republican' b'democrat'\n",
      " b'republican' b'democrat' b'republican' b'republican' b'republican'\n",
      " b'democrat' b'republican' b'democrat' b'democrat' b'democrat'\n",
      " b'republican' b'republican' b'democrat' b'democrat' b'democrat'\n",
      " b'democrat' b'republican' b'democrat' b'democrat' b'democrat' b'democrat'\n",
      " b'republican' b'democrat' b'democrat' b'republican' b'republican'\n",
      " b'republican' b'democrat' b'democrat' b'democrat' b'democrat' b'democrat'\n",
      " b'democrat' b'democrat' b'democrat' b'democrat' b'democrat' b'democrat'\n",
      " b'democrat' b'republican' b'republican' b'democrat' b'democrat'\n",
      " b'democrat' b'democrat' b'democrat' b'republican' b'republican'\n",
      " b'republican' b'republican' b'republican' b'republican' b'republican'\n",
      " b'democrat' b'democrat' b'democrat' b'republican' b'republican'\n",
      " b'democrat' b'republican' b'republican' b'democrat' b'democrat'\n",
      " b'republican' b'democrat' b'democrat' b'democrat' b'republican'\n",
      " b'democrat' b'democrat' b'democrat' b'democrat' b'democrat' b'democrat'\n",
      " b'republican' b'democrat' b'democrat' b'republican' b'democrat'\n",
      " b'republican' b'republican' b'republican']\n"
     ]
    },
    {
     "ename": "ValueError",
     "evalue": "could not convert string to float: b'n'",
     "output_type": "error",
     "traceback": [
      "\u001b[31m---------------------------------------------------------------------------\u001b[39m",
      "\u001b[31mValueError\u001b[39m                                Traceback (most recent call last)",
      "\u001b[36mCell\u001b[39m\u001b[36m \u001b[39m\u001b[32mIn[41]\u001b[39m\u001b[32m, line 40\u001b[39m\n\u001b[32m     37\u001b[39m \u001b[38;5;28mprint\u001b[39m(weights_norm)\n\u001b[32m     38\u001b[39m \u001b[38;5;28mprint\u001b[39m(classifiers)\n\u001b[32m---> \u001b[39m\u001b[32m40\u001b[39m \u001b[43mtrain_from_weights_arrs\u001b[49m\u001b[43m(\u001b[49m\u001b[43mweights\u001b[49m\u001b[43m,\u001b[49m\u001b[43m \u001b[49m\u001b[43mclassifiers\u001b[49m\u001b[43m)\u001b[49m\n",
      "\u001b[36mCell\u001b[39m\u001b[36m \u001b[39m\u001b[32mIn[37]\u001b[39m\u001b[32m, line 23\u001b[39m, in \u001b[36mtrain_from_weights_arrs\u001b[39m\u001b[34m(weights, classifiers, shuffle, verbose, learning_rate, max_iter)\u001b[39m\n\u001b[32m     21\u001b[39m \u001b[38;5;28;01mdef\u001b[39;00m\u001b[38;5;250m \u001b[39m\u001b[34mtrain_from_weights_arrs\u001b[39m(weights, classifiers, shuffle=\u001b[38;5;28;01mFalse\u001b[39;00m, verbose=\u001b[32m0\u001b[39m, learning_rate=\u001b[32m.1\u001b[39m, max_iter=\u001b[32m10\u001b[39m):\n\u001b[32m     22\u001b[39m     clf = Perceptron(shuffle=shuffle, verbose=verbose, eta0=learning_rate, max_iter=max_iter)\n\u001b[32m---> \u001b[39m\u001b[32m23\u001b[39m     \u001b[43mclf\u001b[49m\u001b[43m.\u001b[49m\u001b[43mfit\u001b[49m\u001b[43m(\u001b[49m\u001b[43mweights\u001b[49m\u001b[43m,\u001b[49m\u001b[43m \u001b[49m\u001b[43mclassifiers\u001b[49m\u001b[43m)\u001b[49m\n\u001b[32m     24\u001b[39m     \u001b[38;5;28mprint\u001b[39m(clf.coef_)\n\u001b[32m     25\u001b[39m     \u001b[38;5;28mprint\u001b[39m(clf.intercept_)\n",
      "\u001b[36mFile \u001b[39m\u001b[32m~/projects/byu-cs-270-projects/venv/lib/python3.13/site-packages/sklearn/base.py:1365\u001b[39m, in \u001b[36m_fit_context.<locals>.decorator.<locals>.wrapper\u001b[39m\u001b[34m(estimator, *args, **kwargs)\u001b[39m\n\u001b[32m   1358\u001b[39m     estimator._validate_params()\n\u001b[32m   1360\u001b[39m \u001b[38;5;28;01mwith\u001b[39;00m config_context(\n\u001b[32m   1361\u001b[39m     skip_parameter_validation=(\n\u001b[32m   1362\u001b[39m         prefer_skip_nested_validation \u001b[38;5;129;01mor\u001b[39;00m global_skip_validation\n\u001b[32m   1363\u001b[39m     )\n\u001b[32m   1364\u001b[39m ):\n\u001b[32m-> \u001b[39m\u001b[32m1365\u001b[39m     \u001b[38;5;28;01mreturn\u001b[39;00m \u001b[43mfit_method\u001b[49m\u001b[43m(\u001b[49m\u001b[43mestimator\u001b[49m\u001b[43m,\u001b[49m\u001b[43m \u001b[49m\u001b[43m*\u001b[49m\u001b[43margs\u001b[49m\u001b[43m,\u001b[49m\u001b[43m \u001b[49m\u001b[43m*\u001b[49m\u001b[43m*\u001b[49m\u001b[43mkwargs\u001b[49m\u001b[43m)\u001b[49m\n",
      "\u001b[36mFile \u001b[39m\u001b[32m~/projects/byu-cs-270-projects/venv/lib/python3.13/site-packages/sklearn/linear_model/_stochastic_gradient.py:920\u001b[39m, in \u001b[36mBaseSGDClassifier.fit\u001b[39m\u001b[34m(self, X, y, coef_init, intercept_init, sample_weight)\u001b[39m\n\u001b[32m    891\u001b[39m \u001b[38;5;250m\u001b[39m\u001b[33;03m\"\"\"Fit linear model with Stochastic Gradient Descent.\u001b[39;00m\n\u001b[32m    892\u001b[39m \n\u001b[32m    893\u001b[39m \u001b[33;03mParameters\u001b[39;00m\n\u001b[32m   (...)\u001b[39m\u001b[32m    916\u001b[39m \u001b[33;03m    Returns an instance of self.\u001b[39;00m\n\u001b[32m    917\u001b[39m \u001b[33;03m\"\"\"\u001b[39;00m\n\u001b[32m    918\u001b[39m \u001b[38;5;28mself\u001b[39m._more_validate_params()\n\u001b[32m--> \u001b[39m\u001b[32m920\u001b[39m \u001b[38;5;28;01mreturn\u001b[39;00m \u001b[38;5;28;43mself\u001b[39;49m\u001b[43m.\u001b[49m\u001b[43m_fit\u001b[49m\u001b[43m(\u001b[49m\n\u001b[32m    921\u001b[39m \u001b[43m    \u001b[49m\u001b[43mX\u001b[49m\u001b[43m,\u001b[49m\n\u001b[32m    922\u001b[39m \u001b[43m    \u001b[49m\u001b[43my\u001b[49m\u001b[43m,\u001b[49m\n\u001b[32m    923\u001b[39m \u001b[43m    \u001b[49m\u001b[43malpha\u001b[49m\u001b[43m=\u001b[49m\u001b[38;5;28;43mself\u001b[39;49m\u001b[43m.\u001b[49m\u001b[43malpha\u001b[49m\u001b[43m,\u001b[49m\n\u001b[32m    924\u001b[39m \u001b[43m    \u001b[49m\u001b[43mC\u001b[49m\u001b[43m=\u001b[49m\u001b[32;43m1.0\u001b[39;49m\u001b[43m,\u001b[49m\n\u001b[32m    925\u001b[39m \u001b[43m    \u001b[49m\u001b[43mloss\u001b[49m\u001b[43m=\u001b[49m\u001b[38;5;28;43mself\u001b[39;49m\u001b[43m.\u001b[49m\u001b[43mloss\u001b[49m\u001b[43m,\u001b[49m\n\u001b[32m    926\u001b[39m \u001b[43m    \u001b[49m\u001b[43mlearning_rate\u001b[49m\u001b[43m=\u001b[49m\u001b[38;5;28;43mself\u001b[39;49m\u001b[43m.\u001b[49m\u001b[43mlearning_rate\u001b[49m\u001b[43m,\u001b[49m\n\u001b[32m    927\u001b[39m \u001b[43m    \u001b[49m\u001b[43mcoef_init\u001b[49m\u001b[43m=\u001b[49m\u001b[43mcoef_init\u001b[49m\u001b[43m,\u001b[49m\n\u001b[32m    928\u001b[39m \u001b[43m    \u001b[49m\u001b[43mintercept_init\u001b[49m\u001b[43m=\u001b[49m\u001b[43mintercept_init\u001b[49m\u001b[43m,\u001b[49m\n\u001b[32m    929\u001b[39m \u001b[43m    \u001b[49m\u001b[43msample_weight\u001b[49m\u001b[43m=\u001b[49m\u001b[43msample_weight\u001b[49m\u001b[43m,\u001b[49m\n\u001b[32m    930\u001b[39m \u001b[43m\u001b[49m\u001b[43m)\u001b[49m\n",
      "\u001b[36mFile \u001b[39m\u001b[32m~/projects/byu-cs-270-projects/venv/lib/python3.13/site-packages/sklearn/linear_model/_stochastic_gradient.py:707\u001b[39m, in \u001b[36mBaseSGDClassifier._fit\u001b[39m\u001b[34m(self, X, y, alpha, C, loss, learning_rate, coef_init, intercept_init, sample_weight)\u001b[39m\n\u001b[32m    704\u001b[39m \u001b[38;5;66;03m# Clear iteration count for multiple call to fit.\u001b[39;00m\n\u001b[32m    705\u001b[39m \u001b[38;5;28mself\u001b[39m.t_ = \u001b[32m1.0\u001b[39m\n\u001b[32m--> \u001b[39m\u001b[32m707\u001b[39m \u001b[38;5;28;43mself\u001b[39;49m\u001b[43m.\u001b[49m\u001b[43m_partial_fit\u001b[49m\u001b[43m(\u001b[49m\n\u001b[32m    708\u001b[39m \u001b[43m    \u001b[49m\u001b[43mX\u001b[49m\u001b[43m,\u001b[49m\n\u001b[32m    709\u001b[39m \u001b[43m    \u001b[49m\u001b[43my\u001b[49m\u001b[43m,\u001b[49m\n\u001b[32m    710\u001b[39m \u001b[43m    \u001b[49m\u001b[43malpha\u001b[49m\u001b[43m,\u001b[49m\n\u001b[32m    711\u001b[39m \u001b[43m    \u001b[49m\u001b[43mC\u001b[49m\u001b[43m,\u001b[49m\n\u001b[32m    712\u001b[39m \u001b[43m    \u001b[49m\u001b[43mloss\u001b[49m\u001b[43m,\u001b[49m\n\u001b[32m    713\u001b[39m \u001b[43m    \u001b[49m\u001b[43mlearning_rate\u001b[49m\u001b[43m,\u001b[49m\n\u001b[32m    714\u001b[39m \u001b[43m    \u001b[49m\u001b[38;5;28;43mself\u001b[39;49m\u001b[43m.\u001b[49m\u001b[43mmax_iter\u001b[49m\u001b[43m,\u001b[49m\n\u001b[32m    715\u001b[39m \u001b[43m    \u001b[49m\u001b[43mclasses\u001b[49m\u001b[43m,\u001b[49m\n\u001b[32m    716\u001b[39m \u001b[43m    \u001b[49m\u001b[43msample_weight\u001b[49m\u001b[43m,\u001b[49m\n\u001b[32m    717\u001b[39m \u001b[43m    \u001b[49m\u001b[43mcoef_init\u001b[49m\u001b[43m,\u001b[49m\n\u001b[32m    718\u001b[39m \u001b[43m    \u001b[49m\u001b[43mintercept_init\u001b[49m\u001b[43m,\u001b[49m\n\u001b[32m    719\u001b[39m \u001b[43m\u001b[49m\u001b[43m)\u001b[49m\n\u001b[32m    721\u001b[39m \u001b[38;5;28;01mif\u001b[39;00m (\n\u001b[32m    722\u001b[39m     \u001b[38;5;28mself\u001b[39m.tol \u001b[38;5;129;01mis\u001b[39;00m \u001b[38;5;129;01mnot\u001b[39;00m \u001b[38;5;28;01mNone\u001b[39;00m\n\u001b[32m    723\u001b[39m     \u001b[38;5;129;01mand\u001b[39;00m \u001b[38;5;28mself\u001b[39m.tol > -np.inf\n\u001b[32m    724\u001b[39m     \u001b[38;5;129;01mand\u001b[39;00m \u001b[38;5;28mself\u001b[39m.n_iter_ == \u001b[38;5;28mself\u001b[39m.max_iter\n\u001b[32m    725\u001b[39m ):\n\u001b[32m    726\u001b[39m     warnings.warn(\n\u001b[32m    727\u001b[39m         (\n\u001b[32m    728\u001b[39m             \u001b[33m\"\u001b[39m\u001b[33mMaximum number of iteration reached before \u001b[39m\u001b[33m\"\u001b[39m\n\u001b[32m   (...)\u001b[39m\u001b[32m    732\u001b[39m         ConvergenceWarning,\n\u001b[32m    733\u001b[39m     )\n",
      "\u001b[36mFile \u001b[39m\u001b[32m~/projects/byu-cs-270-projects/venv/lib/python3.13/site-packages/sklearn/linear_model/_stochastic_gradient.py:598\u001b[39m, in \u001b[36mBaseSGDClassifier._partial_fit\u001b[39m\u001b[34m(self, X, y, alpha, C, loss, learning_rate, max_iter, classes, sample_weight, coef_init, intercept_init)\u001b[39m\n\u001b[32m    583\u001b[39m \u001b[38;5;28;01mdef\u001b[39;00m\u001b[38;5;250m \u001b[39m\u001b[34m_partial_fit\u001b[39m(\n\u001b[32m    584\u001b[39m     \u001b[38;5;28mself\u001b[39m,\n\u001b[32m    585\u001b[39m     X,\n\u001b[32m   (...)\u001b[39m\u001b[32m    595\u001b[39m     intercept_init,\n\u001b[32m    596\u001b[39m ):\n\u001b[32m    597\u001b[39m     first_call = \u001b[38;5;129;01mnot\u001b[39;00m \u001b[38;5;28mhasattr\u001b[39m(\u001b[38;5;28mself\u001b[39m, \u001b[33m\"\u001b[39m\u001b[33mclasses_\u001b[39m\u001b[33m\"\u001b[39m)\n\u001b[32m--> \u001b[39m\u001b[32m598\u001b[39m     X, y = \u001b[43mvalidate_data\u001b[49m\u001b[43m(\u001b[49m\n\u001b[32m    599\u001b[39m \u001b[43m        \u001b[49m\u001b[38;5;28;43mself\u001b[39;49m\u001b[43m,\u001b[49m\n\u001b[32m    600\u001b[39m \u001b[43m        \u001b[49m\u001b[43mX\u001b[49m\u001b[43m,\u001b[49m\n\u001b[32m    601\u001b[39m \u001b[43m        \u001b[49m\u001b[43my\u001b[49m\u001b[43m,\u001b[49m\n\u001b[32m    602\u001b[39m \u001b[43m        \u001b[49m\u001b[43maccept_sparse\u001b[49m\u001b[43m=\u001b[49m\u001b[33;43m\"\u001b[39;49m\u001b[33;43mcsr\u001b[39;49m\u001b[33;43m\"\u001b[39;49m\u001b[43m,\u001b[49m\n\u001b[32m    603\u001b[39m \u001b[43m        \u001b[49m\u001b[43mdtype\u001b[49m\u001b[43m=\u001b[49m\u001b[43m[\u001b[49m\u001b[43mnp\u001b[49m\u001b[43m.\u001b[49m\u001b[43mfloat64\u001b[49m\u001b[43m,\u001b[49m\u001b[43m \u001b[49m\u001b[43mnp\u001b[49m\u001b[43m.\u001b[49m\u001b[43mfloat32\u001b[49m\u001b[43m]\u001b[49m\u001b[43m,\u001b[49m\n\u001b[32m    604\u001b[39m \u001b[43m        \u001b[49m\u001b[43morder\u001b[49m\u001b[43m=\u001b[49m\u001b[33;43m\"\u001b[39;49m\u001b[33;43mC\u001b[39;49m\u001b[33;43m\"\u001b[39;49m\u001b[43m,\u001b[49m\n\u001b[32m    605\u001b[39m \u001b[43m        \u001b[49m\u001b[43maccept_large_sparse\u001b[49m\u001b[43m=\u001b[49m\u001b[38;5;28;43;01mFalse\u001b[39;49;00m\u001b[43m,\u001b[49m\n\u001b[32m    606\u001b[39m \u001b[43m        \u001b[49m\u001b[43mreset\u001b[49m\u001b[43m=\u001b[49m\u001b[43mfirst_call\u001b[49m\u001b[43m,\u001b[49m\n\u001b[32m    607\u001b[39m \u001b[43m    \u001b[49m\u001b[43m)\u001b[49m\n\u001b[32m    609\u001b[39m     n_samples, n_features = X.shape\n\u001b[32m    611\u001b[39m     _check_partial_fit_first_call(\u001b[38;5;28mself\u001b[39m, classes)\n",
      "\u001b[36mFile \u001b[39m\u001b[32m~/projects/byu-cs-270-projects/venv/lib/python3.13/site-packages/sklearn/utils/validation.py:2971\u001b[39m, in \u001b[36mvalidate_data\u001b[39m\u001b[34m(_estimator, X, y, reset, validate_separately, skip_check_array, **check_params)\u001b[39m\n\u001b[32m   2969\u001b[39m         y = check_array(y, input_name=\u001b[33m\"\u001b[39m\u001b[33my\u001b[39m\u001b[33m\"\u001b[39m, **check_y_params)\n\u001b[32m   2970\u001b[39m     \u001b[38;5;28;01melse\u001b[39;00m:\n\u001b[32m-> \u001b[39m\u001b[32m2971\u001b[39m         X, y = \u001b[43mcheck_X_y\u001b[49m\u001b[43m(\u001b[49m\u001b[43mX\u001b[49m\u001b[43m,\u001b[49m\u001b[43m \u001b[49m\u001b[43my\u001b[49m\u001b[43m,\u001b[49m\u001b[43m \u001b[49m\u001b[43m*\u001b[49m\u001b[43m*\u001b[49m\u001b[43mcheck_params\u001b[49m\u001b[43m)\u001b[49m\n\u001b[32m   2972\u001b[39m     out = X, y\n\u001b[32m   2974\u001b[39m \u001b[38;5;28;01mif\u001b[39;00m \u001b[38;5;129;01mnot\u001b[39;00m no_val_X \u001b[38;5;129;01mand\u001b[39;00m check_params.get(\u001b[33m\"\u001b[39m\u001b[33mensure_2d\u001b[39m\u001b[33m\"\u001b[39m, \u001b[38;5;28;01mTrue\u001b[39;00m):\n",
      "\u001b[36mFile \u001b[39m\u001b[32m~/projects/byu-cs-270-projects/venv/lib/python3.13/site-packages/sklearn/utils/validation.py:1368\u001b[39m, in \u001b[36mcheck_X_y\u001b[39m\u001b[34m(X, y, accept_sparse, accept_large_sparse, dtype, order, copy, force_writeable, force_all_finite, ensure_all_finite, ensure_2d, allow_nd, multi_output, ensure_min_samples, ensure_min_features, y_numeric, estimator)\u001b[39m\n\u001b[32m   1362\u001b[39m     \u001b[38;5;28;01mraise\u001b[39;00m \u001b[38;5;167;01mValueError\u001b[39;00m(\n\u001b[32m   1363\u001b[39m         \u001b[33mf\u001b[39m\u001b[33m\"\u001b[39m\u001b[38;5;132;01m{\u001b[39;00mestimator_name\u001b[38;5;132;01m}\u001b[39;00m\u001b[33m requires y to be passed, but the target y is None\u001b[39m\u001b[33m\"\u001b[39m\n\u001b[32m   1364\u001b[39m     )\n\u001b[32m   1366\u001b[39m ensure_all_finite = _deprecate_force_all_finite(force_all_finite, ensure_all_finite)\n\u001b[32m-> \u001b[39m\u001b[32m1368\u001b[39m X = \u001b[43mcheck_array\u001b[49m\u001b[43m(\u001b[49m\n\u001b[32m   1369\u001b[39m \u001b[43m    \u001b[49m\u001b[43mX\u001b[49m\u001b[43m,\u001b[49m\n\u001b[32m   1370\u001b[39m \u001b[43m    \u001b[49m\u001b[43maccept_sparse\u001b[49m\u001b[43m=\u001b[49m\u001b[43maccept_sparse\u001b[49m\u001b[43m,\u001b[49m\n\u001b[32m   1371\u001b[39m \u001b[43m    \u001b[49m\u001b[43maccept_large_sparse\u001b[49m\u001b[43m=\u001b[49m\u001b[43maccept_large_sparse\u001b[49m\u001b[43m,\u001b[49m\n\u001b[32m   1372\u001b[39m \u001b[43m    \u001b[49m\u001b[43mdtype\u001b[49m\u001b[43m=\u001b[49m\u001b[43mdtype\u001b[49m\u001b[43m,\u001b[49m\n\u001b[32m   1373\u001b[39m \u001b[43m    \u001b[49m\u001b[43morder\u001b[49m\u001b[43m=\u001b[49m\u001b[43morder\u001b[49m\u001b[43m,\u001b[49m\n\u001b[32m   1374\u001b[39m \u001b[43m    \u001b[49m\u001b[43mcopy\u001b[49m\u001b[43m=\u001b[49m\u001b[43mcopy\u001b[49m\u001b[43m,\u001b[49m\n\u001b[32m   1375\u001b[39m \u001b[43m    \u001b[49m\u001b[43mforce_writeable\u001b[49m\u001b[43m=\u001b[49m\u001b[43mforce_writeable\u001b[49m\u001b[43m,\u001b[49m\n\u001b[32m   1376\u001b[39m \u001b[43m    \u001b[49m\u001b[43mensure_all_finite\u001b[49m\u001b[43m=\u001b[49m\u001b[43mensure_all_finite\u001b[49m\u001b[43m,\u001b[49m\n\u001b[32m   1377\u001b[39m \u001b[43m    \u001b[49m\u001b[43mensure_2d\u001b[49m\u001b[43m=\u001b[49m\u001b[43mensure_2d\u001b[49m\u001b[43m,\u001b[49m\n\u001b[32m   1378\u001b[39m \u001b[43m    \u001b[49m\u001b[43mallow_nd\u001b[49m\u001b[43m=\u001b[49m\u001b[43mallow_nd\u001b[49m\u001b[43m,\u001b[49m\n\u001b[32m   1379\u001b[39m \u001b[43m    \u001b[49m\u001b[43mensure_min_samples\u001b[49m\u001b[43m=\u001b[49m\u001b[43mensure_min_samples\u001b[49m\u001b[43m,\u001b[49m\n\u001b[32m   1380\u001b[39m \u001b[43m    \u001b[49m\u001b[43mensure_min_features\u001b[49m\u001b[43m=\u001b[49m\u001b[43mensure_min_features\u001b[49m\u001b[43m,\u001b[49m\n\u001b[32m   1381\u001b[39m \u001b[43m    \u001b[49m\u001b[43mestimator\u001b[49m\u001b[43m=\u001b[49m\u001b[43mestimator\u001b[49m\u001b[43m,\u001b[49m\n\u001b[32m   1382\u001b[39m \u001b[43m    \u001b[49m\u001b[43minput_name\u001b[49m\u001b[43m=\u001b[49m\u001b[33;43m\"\u001b[39;49m\u001b[33;43mX\u001b[39;49m\u001b[33;43m\"\u001b[39;49m\u001b[43m,\u001b[49m\n\u001b[32m   1383\u001b[39m \u001b[43m\u001b[49m\u001b[43m)\u001b[49m\n\u001b[32m   1385\u001b[39m y = _check_y(y, multi_output=multi_output, y_numeric=y_numeric, estimator=estimator)\n\u001b[32m   1387\u001b[39m check_consistent_length(X, y)\n",
      "\u001b[36mFile \u001b[39m\u001b[32m~/projects/byu-cs-270-projects/venv/lib/python3.13/site-packages/sklearn/utils/validation.py:1053\u001b[39m, in \u001b[36mcheck_array\u001b[39m\u001b[34m(array, accept_sparse, accept_large_sparse, dtype, order, copy, force_writeable, force_all_finite, ensure_all_finite, ensure_non_negative, ensure_2d, allow_nd, ensure_min_samples, ensure_min_features, estimator, input_name)\u001b[39m\n\u001b[32m   1051\u001b[39m         array = xp.astype(array, dtype, copy=\u001b[38;5;28;01mFalse\u001b[39;00m)\n\u001b[32m   1052\u001b[39m     \u001b[38;5;28;01melse\u001b[39;00m:\n\u001b[32m-> \u001b[39m\u001b[32m1053\u001b[39m         array = \u001b[43m_asarray_with_order\u001b[49m\u001b[43m(\u001b[49m\u001b[43marray\u001b[49m\u001b[43m,\u001b[49m\u001b[43m \u001b[49m\u001b[43morder\u001b[49m\u001b[43m=\u001b[49m\u001b[43morder\u001b[49m\u001b[43m,\u001b[49m\u001b[43m \u001b[49m\u001b[43mdtype\u001b[49m\u001b[43m=\u001b[49m\u001b[43mdtype\u001b[49m\u001b[43m,\u001b[49m\u001b[43m \u001b[49m\u001b[43mxp\u001b[49m\u001b[43m=\u001b[49m\u001b[43mxp\u001b[49m\u001b[43m)\u001b[49m\n\u001b[32m   1054\u001b[39m \u001b[38;5;28;01mexcept\u001b[39;00m ComplexWarning \u001b[38;5;28;01mas\u001b[39;00m complex_warning:\n\u001b[32m   1055\u001b[39m     \u001b[38;5;28;01mraise\u001b[39;00m \u001b[38;5;167;01mValueError\u001b[39;00m(\n\u001b[32m   1056\u001b[39m         \u001b[33m\"\u001b[39m\u001b[33mComplex data not supported\u001b[39m\u001b[38;5;130;01m\\n\u001b[39;00m\u001b[38;5;132;01m{}\u001b[39;00m\u001b[38;5;130;01m\\n\u001b[39;00m\u001b[33m\"\u001b[39m.format(array)\n\u001b[32m   1057\u001b[39m     ) \u001b[38;5;28;01mfrom\u001b[39;00m\u001b[38;5;250m \u001b[39m\u001b[34;01mcomplex_warning\u001b[39;00m\n",
      "\u001b[36mFile \u001b[39m\u001b[32m~/projects/byu-cs-270-projects/venv/lib/python3.13/site-packages/sklearn/utils/_array_api.py:757\u001b[39m, in \u001b[36m_asarray_with_order\u001b[39m\u001b[34m(array, dtype, order, copy, xp, device)\u001b[39m\n\u001b[32m    755\u001b[39m     array = numpy.array(array, order=order, dtype=dtype)\n\u001b[32m    756\u001b[39m \u001b[38;5;28;01melse\u001b[39;00m:\n\u001b[32m--> \u001b[39m\u001b[32m757\u001b[39m     array = \u001b[43mnumpy\u001b[49m\u001b[43m.\u001b[49m\u001b[43masarray\u001b[49m\u001b[43m(\u001b[49m\u001b[43marray\u001b[49m\u001b[43m,\u001b[49m\u001b[43m \u001b[49m\u001b[43morder\u001b[49m\u001b[43m=\u001b[49m\u001b[43morder\u001b[49m\u001b[43m,\u001b[49m\u001b[43m \u001b[49m\u001b[43mdtype\u001b[49m\u001b[43m=\u001b[49m\u001b[43mdtype\u001b[49m\u001b[43m)\u001b[49m\n\u001b[32m    759\u001b[39m \u001b[38;5;66;03m# At this point array is a NumPy ndarray. We convert it to an array\u001b[39;00m\n\u001b[32m    760\u001b[39m \u001b[38;5;66;03m# container that is consistent with the input's namespace.\u001b[39;00m\n\u001b[32m    761\u001b[39m \u001b[38;5;28;01mreturn\u001b[39;00m xp.asarray(array)\n",
      "\u001b[31mValueError\u001b[39m: could not convert string to float: b'n'"
     ]
    }
   ],
   "source": [
    "# Run the perceptron 5 times on the voting data set with different splits and record the results.\n",
    "# Hint: look up scikit-learn train_test_split\n",
    "# Create the table using the tool of your choice\n",
    "\n",
    "from sklearn.model_selection import train_test_split\n",
    "\n",
    "voting_data = arff.loadarff('./datasets/voting-dataset.arff')\n",
    "\n",
    "voting_df = pd.DataFrame(voting_data[0])\n",
    "\n",
    "voting_df.head()\n",
    "\n",
    "voting_np_data = np.array(voting_df)\n",
    "# voting_np_data\n",
    "\n",
    "weights = voting_np_data[:, :-1]\n",
    "classifiers = voting_np_data[:, -1]\n",
    "\n",
    "\n",
    "x_train, x_test, y_train, y_test = train_test_split(weights, classifiers)\n",
    "\n",
    "weights_norm = []\n",
    "classifiers_norm = []\n",
    "\n",
    "for arr in weights:\n",
    "    curr_arr = []\n",
    "\n",
    "    for vote in arr:\n",
    "        \n",
    "        if (vote == \"y\"):\n",
    "            curr_arr.append(1)\n",
    "\n",
    "        if (vote == \"n\"):\n",
    "            curr_arr.append(0)\n",
    "    weights_norm.append(curr_arr)\n",
    "\n",
    "print(weights_norm)\n",
    "print(classifiers)\n",
    "\n",
    "train_from_weights_arrs(weights, classifiers)"
   ]
  },
  {
   "cell_type": "markdown",
   "metadata": {
    "id": "cm4rbWkzVeoR"
   },
   "source": [
    "### 3.2 (10%) Interpreting the Model\n",
    "- Learn with the perceptron once on the full voting data set\n",
    "- Look at the learned weights and bias and do your best to explain what the model has learned and how the individual input features affect the result. \n",
    "- Which specific features are most critical for the voting task, and which are least critical? "
   ]
  },
  {
   "cell_type": "code",
   "execution_count": null,
   "metadata": {},
   "outputs": [],
   "source": [
    "#Learn once on the full voting data set.  If you Look at our tutorial at the beginning "
   ]
  },
  {
   "cell_type": "markdown",
   "metadata": {},
   "source": [
    "### Discussion\n",
    "How do the different features in the dataset effect prediction? How could you determine this? "
   ]
  },
  {
   "cell_type": "markdown",
   "metadata": {},
   "source": [
    "** Your discussion goes here **"
   ]
  },
  {
   "cell_type": "markdown",
   "metadata": {
    "id": "NyUmJ4yWVsQ7"
   },
   "source": [
    "### 3.3 (15%) Misclassification rate vs epochs \n",
    "\n",
    "Learn with the perceptron once on the full voting data set and graph the misclassification rate (number_misclassified  /  number_of_total_data_points) at each epoch until convergence (0th – final epoch).  Hints:\n",
    "- For the 0th epoch (i.e. initial weights), assume the initial misclassification rate is 50% and let that be the first point on your graph. Since there are 2 output classes, random guessing would only get it right about 1/2 of the time. Missclassifcation rate is 1 - accuracy.\n",
    "- Doing clf.fit with max_iter = 1, and warm_start=True will let you loop through epochs one at a time, allowing you to look at accuracy, etc. after each epoch.  But how do you know how many epochs to run until convergence?  One way is to just to first run it until convergence with random_state = c to see how many epochs it took (n_iter_).  Then run it again one epoch at a time n_iter_ times using the same random_state constant c (so that you get the exact same conditions).\n",
    "- Below is a rough example of what this type of graph might look like (though this graph is for avg rate across multiple trials)\n",
    "\n",
    "![Average Misclassification Rate](https://raw.githubusercontent.com/rmorain/CS472-1/master/images/perceptron/avg_misclassification_rate_vs_epochs.png)"
   ]
  },
  {
   "cell_type": "code",
   "execution_count": 14,
   "metadata": {
    "id": "2_ZRPWWVVeFM"
   },
   "outputs": [],
   "source": [
    "# Learn once on the full voting data set, while gathering info after every epoch\n",
    "# Then Graph it here.  Here is some sample graph code, but you can do it your own way, including using a bar graph, etc.\n",
    "    \n",
    "def plot_misclassification(misclassification_rate):\n",
    "    \"\"\"\n",
    "        Plots the misclassification rate\n",
    "    Args:\n",
    "        misclassification_rate (array-like): A 1D array or list of missclassifcation rate at every epoch\n",
    "    \"\"\"\n",
    "    plt.plot(np.arange(len(misclassification_rate)), misclassification_rate)\n",
    "    plt.title(\"Misclassification Rate vs. Epoch\")\n",
    "    plt.xlabel(\"Epoch\")\n",
    "    plt.ylabel(\"Misclassification Rate\")\n",
    "    plt.show()"
   ]
  },
  {
   "cell_type": "markdown",
   "metadata": {
    "id": "PgqUrgh--GeU"
   },
   "source": [
    "#### Discussion\n",
    "Discuss the results in your graph. How quickly does the perceptron converge? Do you think this is typical? Are there any anomalies or anything you didn't expect?"
   ]
  },
  {
   "cell_type": "markdown",
   "metadata": {},
   "source": [
    "** Your discussion goes here **"
   ]
  },
  {
   "cell_type": "markdown",
   "metadata": {},
   "source": [
    "### 3.4 (15%) Hyperparameters\n",
    "Read over all the Hyperparameters and their defaults in the scikit [perceptron documentation](https://scikit-learn.org/stable/modules/generated/sklearn.linear_model.Perceptron.html). With the voting data set, experiment briefly with EACH of the following 6 hyperparameters and discuss your findings.\n",
    "- shuffle\n",
    "- eta0 - learning rate\n",
    "- verbose\n",
    "- fit_intercept - whether to use a bias weight or not\n",
    "- random state\n",
    "- warm start"
   ]
  },
  {
   "cell_type": "code",
   "execution_count": null,
   "metadata": {},
   "outputs": [],
   "source": [
    "# Run the model with different hyperparameters"
   ]
  },
  {
   "cell_type": "markdown",
   "metadata": {},
   "source": [
    "#### Discussion\n",
    "Discuss your findings from the experimentation with the hyperparameters."
   ]
  },
  {
   "cell_type": "markdown",
   "metadata": {},
   "source": [
    "** Your discussion goes here **"
   ]
  },
  {
   "cell_type": "markdown",
   "metadata": {
    "id": "mxssT08TzdRH"
   },
   "source": [
    "## 4. (10%) Use the perceptron to learn one other data set of your choice.  \n",
    "- The UC Irvine Data Repository is one great source, but you may get your data set from wherever you like, though it should be a real world task.\n",
    "- Report your results"
   ]
  },
  {
   "cell_type": "code",
   "execution_count": 11,
   "metadata": {
    "id": "hqPZLMf1zdRH"
   },
   "outputs": [],
   "source": [
    "# Load and Train on your dataset and report results"
   ]
  },
  {
   "cell_type": "markdown",
   "metadata": {
    "id": "BqSFAXwlk3Ms"
   },
   "source": [
    "#### Discussion\n",
    "Discuss how the perceptron did on the data set and why you think it performed as such."
   ]
  },
  {
   "cell_type": "markdown",
   "metadata": {},
   "source": [
    "** Your discussion goes here **"
   ]
  },
  {
   "cell_type": "markdown",
   "metadata": {
    "id": "cTlK-kijk8Mg"
   },
   "source": [
    "## 5. (5%) Code up your own perceptron learner \n",
    "\n",
    "Actually coding a model leads to better understanding of what is really happening \"under the hood.\"  Below is a scaffold you could use if you want. Requirements for this task:\n",
    "- Your perceptron should support the methods shown in the example scaffold below.\n",
    "- Your output node should output 1 if net is > 0, else 0.\n",
    "- Use Stochastic/On-line training updates: Iterate and update weights after each training instance (i.e. not batch updates)\n",
    "- Implement a stopping criteria: when your model has trained for a number of epochs with no improvement in accuracy, stop training. Note that the weights/accuracy do not usually change monotonically.\n",
    "- Your class can inherit from the relevant scikit-learn learners (e.g. data shuffling, etc.), but don't call any of the super methods to accomplish the core methods in the scaffold.\n",
    "- Run the evaluation data set and the voting data set above with your Perceptron version. Show and discuss your results and how they compare with the scikit-learn version."
   ]
  },
  {
   "cell_type": "code",
   "execution_count": 12,
   "metadata": {
    "id": "5iY77P7gk1Nh"
   },
   "outputs": [],
   "source": [
    "# Your Perceptron Code"
   ]
  },
  {
   "cell_type": "markdown",
   "metadata": {
    "id": "CCMC9aHQ-IGL"
   },
   "source": [
    "*Discussion*"
   ]
  },
  {
   "cell_type": "code",
   "execution_count": null,
   "metadata": {},
   "outputs": [],
   "source": [
    "# Optional scaffold for Perceptron code.  IF you use this feel free to change/add any methods you want.\n",
    "\n",
    "from sklearn.base import BaseEstimator, ClassifierMixin\n",
    "class PerceptronClassifier(BaseEstimator,ClassifierMixin):\n",
    "\n",
    "    def __init__(self, lr=.1, shuffle=True):\n",
    "        \"\"\" \n",
    "            Initialize class with chosen hyperparameters.\n",
    "        Args:\n",
    "            lr (float): A learning rate / step size.\n",
    "            shuffle: Whether to shuffle the training data each epoch. DO NOT \n",
    "            SHUFFLE for evaluation / debug datasets.\n",
    "        \"\"\"\n",
    "        self.lr = lr\n",
    "        self.shuffle = shuffle\n",
    "\n",
    "    def fit(self, X, y, initial_weights=None):\n",
    "        \"\"\" \n",
    "            Fit the data; run the algorithm and adjust the weights to find a \n",
    "            good solution\n",
    "        Args:\n",
    "            X (array-like): A 2D numpy array with the training data, excluding\n",
    "            targets\n",
    "            y (array-like): A 2D numpy array with the training targets\n",
    "            initial_weights (array-like): allows the user to provide initial \n",
    "            weights\n",
    "        Returns:\n",
    "            self: this allows this to be chained, e.g. model.fit(X,y).predict(X_test)\n",
    "        \"\"\"\n",
    "        self.weights = self.initialize_weights() if not initial_weights else initial_weights\n",
    "\n",
    "        return self\n",
    "\n",
    "    def predict(self, X):\n",
    "        \"\"\" \n",
    "            Predict all classes for a dataset X\n",
    "        Args:\n",
    "            X (array-like): A 2D numpy array with the training data, excluding \n",
    "            targets\n",
    "        Returns:\n",
    "            array, shape (n_samples,)\n",
    "                Predicted target values per element in X.\n",
    "        \"\"\"\n",
    "        pass\n",
    "\n",
    "    def initialize_weights(self):\n",
    "        \"\"\" Initialize weights for perceptron. Don't forget the bias!\n",
    "        Returns:\n",
    "        \"\"\"\n",
    "\n",
    "        return [0]\n",
    "\n",
    "    def score(self, X, y):\n",
    "        \"\"\" \n",
    "            Return accuracy of model on a given dataset. Must implement own \n",
    "            score function.\n",
    "        Args:\n",
    "            X (array-like): A 2D numpy array with data, excluding targets\n",
    "            y (array-like): A 2D numpy array with targets\n",
    "        Returns:\n",
    "            score : float\n",
    "                Mean accuracy of self.predict(X) wrt. y.\n",
    "        \"\"\"\n",
    "\n",
    "        return 0\n",
    "\n",
    "    ### Returns the weights and bias. Not required but great for debugging.\n",
    "    def get_weights(self):\n",
    "        pass"
   ]
  }
 ],
 "metadata": {
  "colab": {
   "collapsed_sections": [],
   "provenance": []
  },
  "kernelspec": {
   "display_name": "venv",
   "language": "python",
   "name": "python3"
  },
  "language_info": {
   "codemirror_mode": {
    "name": "ipython",
    "version": 3
   },
   "file_extension": ".py",
   "mimetype": "text/x-python",
   "name": "python",
   "nbconvert_exporter": "python",
   "pygments_lexer": "ipython3",
   "version": "3.13.3"
  }
 },
 "nbformat": 4,
 "nbformat_minor": 0
}
