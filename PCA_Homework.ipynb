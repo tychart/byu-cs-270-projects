{
 "cells": [
  {
   "cell_type": "markdown",
   "id": "e92230a9",
   "metadata": {},
   "source": [
    "Init Arrays"
   ]
  },
  {
   "cell_type": "code",
   "execution_count": 83,
   "id": "0f0bd7bf",
   "metadata": {},
   "outputs": [
    {
     "name": "stdout",
     "output_type": "stream",
     "text": [
      "Original Inputs:\n"
     ]
    },
    {
     "data": {
      "text/plain": [
       "array([ 0.2, -1.1,  1. ,  0.5, -0.6])"
      ]
     },
     "metadata": {},
     "output_type": "display_data"
    },
    {
     "data": {
      "text/plain": [
       "array([-0.3,  2. , -2.2, -1. ,  1. ])"
      ]
     },
     "metadata": {},
     "output_type": "display_data"
    },
    {
     "name": "stdout",
     "output_type": "stream",
     "text": [
      "--------------------\n",
      "Zeroed Inputs:\n"
     ]
    },
    {
     "data": {
      "text/plain": [
       "array([ 0.2, -1.1,  1. ,  0.5, -0.6])"
      ]
     },
     "metadata": {},
     "output_type": "display_data"
    },
    {
     "data": {
      "text/plain": [
       "array([-0.2,  2.1, -2.1, -0.9,  1.1])"
      ]
     },
     "metadata": {},
     "output_type": "display_data"
    }
   ],
   "source": [
    "import numpy as np\n",
    "\n",
    "# HW Data\n",
    "x = np.array([0.2, -1.1, 1, 0.5, -0.6])\n",
    "y = np.array([-0.3, 2, -2.2, -1, 1])\n",
    "\n",
    "# # Example Data\n",
    "# x = np.array([2.5, 0.5, 2.2, 1.9, 3.1, 2.3, 2.0, 1.0, 1.5, 1.2])\n",
    "# y = np.array([2.4, 0.7, 2.9, 2.2, 3.0, 2.7, 1.6, 1.1, 1.6, 0.9])\n",
    "\n",
    "x_avg = x - x.mean()\n",
    "y_avg = y - y.mean()\n",
    "\n",
    "# print(0.2 + -1.1 + 1 + 0.5 + -0.6 + 0)\n",
    "\n",
    "print(\"Original Inputs:\")\n",
    "display(x)\n",
    "display(y)\n",
    "print(\"--------------------\")\n",
    "print(\"Zeroed Inputs:\")\n",
    "display(x_avg)\n",
    "display(y_avg)"
   ]
  },
  {
   "cell_type": "code",
   "execution_count": 84,
   "id": "e4931176",
   "metadata": {},
   "outputs": [],
   "source": [
    "def calc_cov_matrix (x, y):\n",
    "    # x_mean = x.mean()\n",
    "    # y_mean = y.mean()\n",
    "\n",
    "    # for i in x.len():\n",
    "        # ((x[i] - x_mean) * (y[i] - y_mean) / (i - 1))\n",
    "    \n",
    "    # Turn the 2 vars into a matrix, then send them into np.cov\n",
    "    return np.cov(np.stack((x, y,)))\n",
    "\n"
   ]
  },
  {
   "cell_type": "code",
   "execution_count": 85,
   "id": "894b8bcb",
   "metadata": {},
   "outputs": [
    {
     "data": {
      "text/plain": [
       "array([0.003701, 3.431299])"
      ]
     },
     "metadata": {},
     "output_type": "display_data"
    },
    {
     "data": {
      "text/plain": [
       "array([[-0.890213,  0.455545],\n",
       "       [-0.455545, -0.890213]])"
      ]
     },
     "metadata": {},
     "output_type": "display_data"
    },
    {
     "data": {
      "text/plain": [
       "array([1, 0])"
      ]
     },
     "metadata": {},
     "output_type": "display_data"
    },
    {
     "name": "stdout",
     "output_type": "stream",
     "text": [
      "Top P Eigenvectors\n",
      "[[ 0.455545]\n",
      " [-0.890213]]\n"
     ]
    }
   ],
   "source": [
    "cov_matrix = calc_cov_matrix(x, y)\n",
    "\n",
    "eigenvalues, eigenvectors = np.linalg.eig(cov_matrix)\n",
    "\n",
    "display(eigenvalues)\n",
    "display(eigenvectors)\n",
    "\n",
    "# sorted_indices = np.argsort(eigenvalues)\n",
    "sorted_indices =  np.argsort(eigenvalues)[::-1]\n",
    "\n",
    "display(sorted_indices)\n",
    "p = 1\n",
    "\n",
    "top_p_eigenvectors = eigenvectors[:, sorted_indices[:p]]\n",
    "\n",
    "print(f\"Top P Eigenvectors\\n{top_p_eigenvectors}\")\n",
    "# display(top_p_eigenvectors)\n",
    "\n",
    "# np.stack((x, y,), axis=0)"
   ]
  },
  {
   "cell_type": "code",
   "execution_count": 86,
   "id": "1a45c1eb",
   "metadata": {},
   "outputs": [
    {
     "data": {
      "text/plain": [
       "array([[ 0.455545],\n",
       "       [-0.890213]])"
      ]
     },
     "metadata": {},
     "output_type": "display_data"
    },
    {
     "data": {
      "text/plain": [
       "array([ 0.2, -1.1,  1. ,  0.5, -0.6])"
      ]
     },
     "metadata": {},
     "output_type": "display_data"
    },
    {
     "data": {
      "text/plain": [
       "array([[ 0.2, -1.1,  1. ,  0.5, -0.6],\n",
       "       [-0.2,  2.1, -2.1, -0.9,  1.1]])"
      ]
     },
     "metadata": {},
     "output_type": "display_data"
    },
    {
     "name": "stdout",
     "output_type": "stream",
     "text": [
      "Ammount of variance explained by the top 1 eigenvectors: 99.8922497109134%\n",
      "Final Input Values:\n",
      "[[ 0.269152]\n",
      " [-2.370546]\n",
      " [ 2.324992]\n",
      " [ 1.028964]\n",
      " [-1.252561]]\n",
      "\n"
     ]
    }
   ],
   "source": [
    "# \n",
    "\n",
    "display(top_p_eigenvectors)\n",
    "display(x_avg)\n",
    "\n",
    "matrix_avg = np.stack((x_avg, y_avg))\n",
    "\n",
    "display(matrix_avg)\n",
    "\n",
    "matrix_adjusted = np.dot(matrix_avg.T, top_p_eigenvectors)\n",
    "\n",
    "# adjusted_x = matrix_adjusted[0]\n",
    "# adjusted_y = matrix_adjusted[1]\n",
    "\n",
    "top_variance = (eigenvalues[sorted_indices[p-1]]  / (eigenvalues[sorted_indices[p-1]] + eigenvalues[sorted_indices[p-2]]) ) * 100\n",
    "\n",
    "print(f\"Ammount of variance explained by the top {p} eigenvectors: {top_variance}%\")\n",
    "\n",
    "# display(adjusted_x)\n",
    "# display(adjusted_y)\n",
    "\n",
    "np.set_printoptions(suppress=True, precision=6)\n",
    "\n",
    "\n",
    "print(f\"Final Input Values:\\n{matrix_adjusted}\")\n",
    "print()\n"
   ]
  },
  {
   "cell_type": "code",
   "execution_count": 87,
   "id": "d6599b38",
   "metadata": {},
   "outputs": [
    {
     "name": "stdout",
     "output_type": "stream",
     "text": [
      "Components:\n",
      " [[-0.455545  0.890213]]\n",
      "Explained Variance:\n",
      " [3.431299]\n",
      "Mean:\n",
      " [-0.  -0.1]\n",
      "Projected Data:\n",
      " [[-0.269152]\n",
      " [ 2.370546]\n",
      " [-2.324992]\n",
      " [-1.028964]\n",
      " [ 1.252561]]\n"
     ]
    }
   ],
   "source": [
    "## Generated Code used for Checking my work:\n",
    "\n",
    "from sklearn.decomposition import PCA\n",
    "import numpy as np\n",
    "\n",
    "# Your original data matrix with shape (n_samples, n_features)\n",
    "X = np.column_stack([x, y])  # example if you have variables x and y\n",
    "\n",
    "k = 1  # Number of principal components to keep\n",
    "\n",
    "pca = PCA(n_components=k)\n",
    "pca.fit(X)\n",
    "\n",
    "# Principal components (eigenvectors)\n",
    "print(\"Components:\\n\", pca.components_)\n",
    "\n",
    "# Explained variance (eigenvalues)\n",
    "print(\"Explained Variance:\\n\", pca.explained_variance_)\n",
    "\n",
    "# Mean of features (used for centering)\n",
    "print(\"Mean:\\n\", pca.mean_)\n",
    "\n",
    "# Transform the data into principal component space\n",
    "X_pca = pca.transform(X)\n",
    "print(\"Projected Data:\\n\", X_pca)\n"
   ]
  }
 ],
 "metadata": {
  "kernelspec": {
   "display_name": "venv (3.13.3)",
   "language": "python",
   "name": "python3"
  },
  "language_info": {
   "codemirror_mode": {
    "name": "ipython",
    "version": 3
   },
   "file_extension": ".py",
   "mimetype": "text/x-python",
   "name": "python",
   "nbconvert_exporter": "python",
   "pygments_lexer": "ipython3",
   "version": "3.13.3"
  }
 },
 "nbformat": 4,
 "nbformat_minor": 5
}
