{
 "cells": [
  {
   "cell_type": "markdown",
   "metadata": {
    "id": "DVL7_bgmIAPR"
   },
   "source": [
    "# Backpropagation Lab\n",
    "\n",
    "\n",
    "\n"
   ]
  },
  {
   "cell_type": "code",
   "execution_count": 1,
   "metadata": {
    "id": "6ZbYjZZZ_yLV"
   },
   "outputs": [],
   "source": [
    "from sklearn.neural_network import MLPClassifier\n",
    "import numpy as np\n",
    "import pandas as pd\n",
    "import matplotlib.pyplot as plt"
   ]
  },
  {
   "cell_type": "markdown",
   "metadata": {
    "id": "9vWiTdlbR2Xh"
   },
   "source": [
    "## 1 Avoiding Overfit: Early Stopping and Loss Regularization\n",
    "\n",
    "### 1.1 (10%) No overfit avoidance\n",
    "Train the sklearn [MLP classifier](https://scikit-learn.org/stable/modules/generated/sklearn.neural_network.MLPClassifier.html#sklearn.neural_network.MLPClassifier) on the [Iris Dataset](https://raw.githubusercontent.com/cs472ta/CS472/master/datasets/iris.arff).  Use 3 output nodes (1 per class). Expanding the one output variable into 3 is called one-hot encoding or dummy variable encoding. There are lots of ways to implement this including the Pandas get_dummies method. This experiment is set up to run a little longer to better see the effects of overfit.  Be patient as there are lots of hidden nodes and a high max iterations setting.\n",
    "\n",
    "Use default parameters except for the following:\n",
    "- hidden_layer_sizes = [64] - One hidden layer with 64 hidden nodes\n",
    "- activation = 'logistic'\n",
    "- solver = 'sgd'\n",
    "- alpha = 0\n",
    "- batch_size = 1 # How big of a group of items do you go through before updating the weights, in this case, batch size of one means that it updates after each training item, this makes it stochastic gradiant desent.\n",
    "- learning_rate_init = 0.01\n",
    "- shuffle = True\n",
    "- momentum = 0\n",
    "- n_iter_no_change = 50\n",
    "- max_iterations = 10000\n",
    "\n",
    "Use a random 80/20 split of the data.  Run it a few times with different random training/test splits and give average values for\n",
    "- Number of iterations until convergence\n",
    "- Training set accuracy\n",
    "- Test set accuracy\n",
    "For one run observe the softmax probabilities on the test set using clf.predict_proba"
   ]
  },
  {
   "cell_type": "code",
   "execution_count": 2,
   "metadata": {},
   "outputs": [
    {
     "name": "stdout",
     "output_type": "stream",
     "text": [
      "Total Epochs Ran: 253\n",
      "Final Accuracy On the Training Set: 1.0\n",
      "Final Accuracy On the Test Set: 0.975\n"
     ]
    }
   ],
   "source": [
    "#Iris with no regularization\n",
    "\n",
    "\"\"\"We'll need to setup an MLP classifier\n",
    "Go to the docs in sikit learn and look at the examples\"\"\"\n",
    "\n",
    "from scipy.io import arff\n",
    "from sklearn.datasets import make_classification\n",
    "from sklearn.model_selection import train_test_split\n",
    "from sklearn.datasets import load_iris\n",
    "\n",
    "def load_dataset(dataset_name):\n",
    "    Data_Set = arff.loadarff(f'datasets/{dataset_name}')\n",
    "    Data_Set_df = pd.DataFrame(Data_Set[0])\n",
    "    Data_Set_np = Data_Set_df.to_numpy()\n",
    "    Data_Set_np = Data_Set_np.astype(str)\n",
    "    X = Data_Set_df.drop('class', axis=1).to_numpy()\n",
    "    y = Data_Set_df['class'].astype(str).to_numpy()\n",
    "    # X = Data_Set_np[:, :-1]\n",
    "    # y = Data_Set_np[:, -1]\n",
    "    return [X, y]\n",
    "\n",
    "# X, y = make_classification(n_samples=100, random_state=1)\n",
    "X, y = load_iris(return_X_y=True)\n",
    "# X, y = load_dataset(\"iris.arff\")\n",
    "\n",
    "X_train, X_test, y_train, y_test = train_test_split(\n",
    "    X, y,\n",
    "    test_size=0.2,\n",
    "    train_size=0.8,\n",
    "    random_state=1\n",
    ")\n",
    "\n",
    "clf = MLPClassifier(\n",
    "    hidden_layer_sizes=64,\n",
    "    activation=\"logistic\",\n",
    "    solver=\"sgd\",\n",
    "    alpha=0,\n",
    "    batch_size=1,\n",
    "    learning_rate_init=0.01,\n",
    "    shuffle=True,\n",
    "    momentum=0,\n",
    "    n_iter_no_change=50,\n",
    "    max_iter=10000,\n",
    ").fit(X_train, y_train)\n",
    "\n",
    "print(f\"Total Epochs Ran: {clf.n_iter_}\")\n",
    "# print(f\"Final Weights: {clf.coef_}\")\n",
    "# print(f\"Final Bias: {clf.intercept_}\")\n",
    "print(f\"Final Accuracy On the Training Set: {clf.score(X_test, y_test)}\")\n",
    "print(f\"Final Accuracy On the Test Set: {clf.score(X_train, y_train)}\")\n"
   ]
  },
  {
   "cell_type": "markdown",
   "metadata": {},
   "source": [
    "#### Discussion\n",
    "In the markdown cell below, write about your experience training the MLP classifier. Things to cover in your discussion: How long did it take? What was your accuracy on the training set? What was your accuracy on the testing set? Do you see any evidence of overfitting? If so, what could be done to reduce the effects of overfitting?"
   ]
  },
  {
   "cell_type": "markdown",
   "metadata": {},
   "source": [
    "** Put your answer here **\n",
    "\n",
    "The MLP classifier did pretty good on this dataset. It usually took about 200-300 epochs for the model to converge, and after that, the accuracy for that model on the training set usually got 100%, while the accuracy for the test set usually got anywhere from 97.5%-100%. I think that some evidance of overfitting happens whne the accuracy for the test set is consistantly lower than the acuracy for the training set. I also see that overfitting could be seen by the model consistantly getting 100% accuracy for the training set, it might have just memorized the values."
   ]
  },
  {
   "cell_type": "markdown",
   "metadata": {},
   "source": [
    "### 1.2 (10%) Early Stopping (Validation Set)\n",
    "\n",
    "- Do the same as above but this time with early stopping\n",
    "- Use a validation set taken from the training set for your stopping criteria. Using 10-15% of the training set for a validation set is common. You do this simply by setting the MLPClassifier early_stopping, validation_fraction, and n_iter_no_change parameters.\n",
    "- Run it a few times with different training/test splits and give average values for\n",
    "    - Number of iterations until convergence\n",
    "    - Training set accuracy\n",
    "    - Test set accuracy\n",
    "    - Best validation score (MLPClassifer attribute best_validation_score_)\n",
    "- For one run create a graph with validation set accuracy (*y*-axis) vs epochs (*x*-axis). Hint: MLPClassifer attribute validation_scores_\n",
    "\n",
    "Note: Due to the simplicity of and lack of noise in the iris data set you will not see the accuracy improvements that early stopping or loss regularization can give for more complex noisy datasets.  In particular, early stopping will have lower than expected results because with a very small VS taken from a very small training set there is less data to train on and more variance with the VS score.  Thus, you will probably get lower accuracies for VS than normal training for this less typical case.  But at least you will get practice on using early stopping and loss regularization for future data sets."
   ]
  },
  {
   "cell_type": "code",
   "execution_count": 3,
   "metadata": {},
   "outputs": [
    {
     "name": "stdout",
     "output_type": "stream",
     "text": [
      "Average Training Accuracy: 0.6929133858267716\n",
      "Average Testing Accuracy: 0.5217391304347826\n",
      "Average Epochs Ran: 104.0\n",
      "Average Best Validation Score: 1.0\n",
      "Final Epochs Ran: 104\n",
      "Final Accuracy On the Training Set: 0.6929133858267716\n",
      "Final Accuracy On the Test Set: 0.5217391304347826\n",
      "Best Validation Score: 1.0\n"
     ]
    },
    {
     "data": {
      "image/png": "[encoded data removed]",
      "text/plain": [
       "<Figure size 640x480 with 1 Axes>"
      ]
     },
     "metadata": {},
     "output_type": "display_data"
    }
   ],
   "source": [
    "#Iris with early stopping and validation scores graph\n",
    "\n",
    "\"\"\"We don't pay attention to the training set result, we only pay attention to the validation set accuracy\"\"\"\n",
    "\n",
    "import matplotlib.pyplot as plt\n",
    "\n",
    "def earlyStop(X_train, y_train):\n",
    "\n",
    "    clf = MLPClassifier(\n",
    "        hidden_layer_sizes=64,\n",
    "        activation=\"logistic\",\n",
    "        solver=\"sgd\",\n",
    "        alpha=0,\n",
    "        batch_size=1,\n",
    "        learning_rate_init=0.01,\n",
    "        shuffle=True,\n",
    "        momentum=0,\n",
    "        # n_iter_no_change=50,\n",
    "        n_iter_no_change=100,\n",
    "        max_iter=10000,\n",
    "        early_stopping=True,\n",
    "    ).fit(X_train, y_train)\n",
    "    \n",
    "    return clf\n",
    "\n",
    "itters = 1\n",
    "train_accuracy_total = 0\n",
    "test_accuracy_total = 0\n",
    "epochs_ran_total = 0\n",
    "best_validation_score_total = 0\n",
    "\n",
    "for i in range(itters):\n",
    "    X_train, X_test, y_train, y_test = train_test_split(\n",
    "        X, y,\n",
    "        test_size=0.15,\n",
    "        train_size=0.85,\n",
    "        random_state=1\n",
    "    )\n",
    "\n",
    "    clf = earlyStop(X_train, y_train)\n",
    "\n",
    "    train_accuracy_total += clf.score(X_train, y_train)\n",
    "    test_accuracy_total += clf.score(X_test, y_test)\n",
    "    epochs_ran_total += clf.n_iter_\n",
    "    best_validation_score_total += clf.best_validation_score_\n",
    "\n",
    "print(f\"Average Training Accuracy: {train_accuracy_total / itters}\")\n",
    "print(f\"Average Testing Accuracy: {test_accuracy_total / itters}\")\n",
    "print(f\"Average Epochs Ran: {epochs_ran_total / itters}\")\n",
    "print(f\"Average Best Validation Score: {best_validation_score_total / itters}\")\n",
    "\n",
    "\n",
    "\n",
    "print(f\"Final Epochs Ran: {clf.n_iter_}\")\n",
    "# print(f\"Final Weights: {clf.coef_}\")\n",
    "# print(f\"Final Bias: {clf.intercept_}\")\n",
    "print(f\"Final Accuracy On the Training Set: {clf.score(X_train, y_train)}\")\n",
    "print(f\"Final Accuracy On the Test Set: {clf.score(X_test, y_test)}\")\n",
    "print(f\"Best Validation Score: {clf.best_validation_score_}\")\n",
    "# print(clf.validation_scores_)\n",
    "\n",
    "\n",
    "# plt.xlim(-1,1)\n",
    "# plt.ylim(0,1.2)\n",
    "scatter = plt.plot(clf.validation_scores_)"
   ]
  },
  {
   "cell_type": "markdown",
   "metadata": {},
   "source": [
    "#### Discussion\n",
    "Report on the average number of iterations until convergence. What is the effect of the use of the validation set and early stopping on training set accuracy and testing set accuracy? What do you attribute the performance change to? What do you see in the validation scores graph?"
   ]
  },
  {
   "cell_type": "markdown",
   "metadata": {
    "id": "ZNMATZqjtlxs"
   },
   "source": [
    "** Your discussion of average values above and the validation score graph **\n",
    "\n",
    "Haivng messed around with the n_itter_no_change variable, it seems like even if I set it to 100, 1000, or 10,000, the set has already converged by around epoch number 40. When I put the n_itter_no_change equal to 10000, I experianced that the best validation score eventualy went back down to 90%, then back up to 100%, over and over, which is what I observed in the validation scores graph. Strangely, it appears that the average testing accuracy is usually much higher than the average training accuracy, which I don't understand. "
   ]
  },
  {
   "cell_type": "markdown",
   "metadata": {},
   "source": [
    "### 1.3 (10%) Loss Regularization\n",
    "\n",
    "- Do the same as in 1.1 but his time with loss regularization (Do not do early stopping)\n",
    "- Run it with different L2 regularization parameter values (alpha).  The default for alpha is .0001.  Try other values such as .1, .01, .001, .00001, etc. Make a table with each row including:\n",
    "    - The regularization parameter value\n",
    "    - Number of iterations until convergence\n",
    "    - Training set accuracy\n",
    "    - Test set accuracy\n",
    "    - Best loss value (MLPClassifer attribute best_loss_)\n",
    "- Which regularization value gave you the best results?\n",
    "- For your best regularization value do one run and create a graph with loss (*y*-axis) vs epochs (*x*-axis) for the training set (Hint: MLPClassifer attribute loss_curve_)"
   ]
  },
  {
   "cell_type": "code",
   "execution_count": 4,
   "metadata": {},
   "outputs": [
    {
     "name": "stdout",
     "output_type": "stream",
     "text": [
      "Alpha Value: 0.1\n",
      "Average Training Accuracy: 0.6929133858267716\n",
      "Average Testing Accuracy: 0.5217391304347826\n",
      "Average Epochs Ran: 124.0\n",
      "Average Best Validation Score: 0.894200380502061\n",
      "-----------------------------------------------\n"
     ]
    }
   ],
   "source": [
    "#Iris with Loss Regularization \n",
    "\n",
    "# Use the flag to turn on reglurization\n",
    "\n",
    "# import mkl\n",
    "# mkl.set_num_threads(5)\n",
    "\n",
    "# import mkl\n",
    "# print(dir(mkl))  # Check if 'set_num_threads' is listed   \n",
    "\n",
    "\n",
    "def lossRegularization(X_train, y_train, alpha_val):\n",
    "\n",
    "    clf = MLPClassifier(\n",
    "        hidden_layer_sizes=64,\n",
    "        activation=\"logistic\",\n",
    "        solver=\"sgd\",\n",
    "        alpha=alpha_val,\n",
    "        batch_size=1,\n",
    "        learning_rate_init=0.01,\n",
    "        shuffle=True,\n",
    "        momentum=0,\n",
    "        n_iter_no_change=50,\n",
    "        max_iter=10000,\n",
    "        # early_stopping=True,\n",
    "    ).fit(X_train, y_train)\n",
    "    \n",
    "    return clf\n",
    "\n",
    "# itters = 5\n",
    "itters = 1\n",
    "\n",
    "alphas = [\n",
    "    0.1, \n",
    "    # 0.01, \n",
    "    # 0.001, \n",
    "    # 0.0001, \n",
    "    # 0.00001\n",
    "]\n",
    "\n",
    "\n",
    "\n",
    "for alpha in alphas:\n",
    "\n",
    "    epochs_ran_total = 0\n",
    "    train_accuracy_total = 0\n",
    "    test_accuracy_total = 0\n",
    "    best_loss_val_total = 0\n",
    "\n",
    "    for i in range(itters):\n",
    "\n",
    "        X_train, X_test, y_train, y_test = train_test_split(\n",
    "            X, y,\n",
    "            test_size=0.15,\n",
    "            train_size=0.85,\n",
    "            random_state=1\n",
    "        )\n",
    "\n",
    "        clf = lossRegularization(X_train, y_train, alpha_val=alpha)\n",
    "\n",
    "        train_accuracy_total += clf.score(X_train, y_train)\n",
    "        test_accuracy_total += clf.score(X_test, y_test)\n",
    "        epochs_ran_total += clf.n_iter_\n",
    "        best_loss_val_total += clf.best_loss_\n",
    "\n",
    "    print(f\"Alpha Value: {alpha}\")\n",
    "    print(f\"Average Training Accuracy: {train_accuracy_total / itters}\")\n",
    "    print(f\"Average Testing Accuracy: {test_accuracy_total / itters}\")\n",
    "    print(f\"Average Epochs Ran: {epochs_ran_total / itters}\")\n",
    "    print(f\"Average Best Validation Score: {best_loss_val_total / itters}\")\n",
    "    print(\"-----------------------------------------------\")\n",
    "    \n",
    "    "
   ]
  },
  {
   "cell_type": "markdown",
   "metadata": {},
   "source": [
    "#### Discussion\n",
    "Write about which regularization method gave you the best results and why you think that happened. Also compare: no regularization, early stopping, and L2 loss regularization."
   ]
  },
  {
   "cell_type": "markdown",
   "metadata": {},
   "source": [
    "** Your discussion **\n",
    "\n",
    "\n",
    "| Alpha Value | Average Training Accuracy | Average Testing Accuracy | Average Epochs Ran | Average Best Validation Score |\n",
    "| ----------- | ------------------------- | ------------------------ | ------------------ | ----------------------------- |\n",
    "| 0.1         | 0.7921259842519686        | 0.6869565217391305       | 146.0              | 0.8931427657124009            |\n",
    "| 0.01        | 0.9748031496062992        | 0.9565217391304348       | 182.2              | 0.36103523005764815           |\n",
    "| 0.001       | 0.973228346456693         | 0.9826086956521738       | 213.0              | 0.11581937838935777           |\n",
    "| 0.0001      | 0.973228346456693         | 1.0                      | 252.2              | 0.0698158183040593            |\n",
    "| 0.00001     | 0.9669291338582677        | 1.0                      | 262.2              | 0.058762617909573156          |\n",
    "\n",
    "It appears that as the regularization value decreases, the testing accuracy increases. The average epochs also increases steadily, and it also apears that the average best validation score decreases. For the training accuracy, as the alpha value decreases, the average training accuracy apears to go up, but only to a point, then it ends up decresing slightly again. This compared to no regularization / the default regularization value. is pretty simular, and there are a lot of variables that affect the results. it does seem like the lower the L2 Regularization value, the better the score, but with dimishing returns."
   ]
  },
  {
   "cell_type": "markdown",
   "metadata": {
    "id": "mOteTlV6S0bq"
   },
   "source": [
    "## 2 Hyperparameters \n",
    "In this section we use the [Vowel Dataset](https://raw.githubusercontent.com/cs472ta/CS472/master/datasets/vowel.arff) to consider the hyperparameters of learning rate, number of hidden nodes, and momentum. \n",
    "\n",
    "### 2.1 (10%) Vowel Dataset Questions\n",
    "- Give the baseline accuracies for the Iris and Vowel datasets. Baseline accuracy is what you would get if the model just outputs the majority class of the data set (i.e. the output value which occurs most often). These two data sets are not great examples for this as they have an equal amount of each class, which is not typical.\n",
    "- Discuss why the vowel data set will probably have lower accuracy than Iris.\n",
    "- Consider which of the vowel dataset's input features you should not use in training and discuss why."
   ]
  },
  {
   "cell_type": "markdown",
   "metadata": {
    "id": "qmq9GSbJS8k2"
   },
   "source": [
    "** Discuss these items here **\n",
    "\n",
    "Vowel: **1/11** chance of success (Baseline Accuracy)\n",
    "\n",
    "Iris: **1/3** chance of success (Baseline Accuracy)\n",
    "\n",
    "Because there are an equal number of items in each class for both of the datasets, the accuracy will be lower on the Vowel dataset, because the chance of simply guessing goes from a 1 in 3 chance of getting it correct, to a 1 in 11 chance. This will likely lead to a lower accuracy in general.\n",
    "\n",
    "As for which features we should not use in training, the only definitive feature that I think should not be used is the Train/Test feature. This is because we want to do our own splitting up and shuffling of the data, and we don't need that predefined in our training set. Also it apears that the values are roughtly equal, but we want to use as much of the set for training as possible.\n",
    "\n",
    "As for any other features, without knowing the end goal of what we want to do with this model we are training, I can not know what other features are important or should be dropped. I did end up dropping \n",
    "\n",
    "\n",
    "Use numpy pandas"
   ]
  },
  {
   "cell_type": "markdown",
   "metadata": {
    "id": "SIRG42TgSR4x"
   },
   "source": [
    "### 2.2 (10%) Learning Rate\n",
    "Load the [Vowel Dataset](https://raw.githubusercontent.com/cs472ta/CS472/master/datasets/vowel.arff). Drop any features which you explained above as being inappropriate for training.\n",
    "\n",
    "Hints: Consider the Pandas drop method for dropping columns. When you want to transform features in your data set there are lots of approaches. You could edit the arff file directly, or make the transforms in your code.  The Pandas replace method is nice for that. For example, if you wanted to change the vowel data set gender feature in a Pandas dataframe to 0/1 you could do the following:\n",
    "\n",
    "vowel_df['Sex'] = vowel_df['Sex'].str.decode('utf-8')   //Changes the byte code data into a normal string, b'Male' becomes \"Male\"\\\n",
    "vowel_df = vowel_df.replace('Male', 0)\\\n",
    "vowel_df = vowel_df.replace('Female', 1)\n",
    "\n",
    "- Use one layer of hidden nodes with the number of hidden nodes being twice the number of inputs.\n",
    "- Use a random 75/25 split of the data for the training/test set.\n",
    "- Do not use early stopping.\n",
    "- Try at least 5 different learning rates (LR) from very small (e.g. .001) to pretty big (e.g. 10). Each LR will require a different number of epochs to learn. LR effects both accuracy and time required for learning.\n",
    "- Create a table which includes a row for each LR.  Your table columns should be LR, # epochs to learn the model, final training set accuracy and final test set accuracy.  As learning rates get smaller, it usually takes more epochs to learn. If your model is stopping learning too soon (converging) by hitting max_iterations (in this case and in experiments below), then you need to increase your max_iterations parameter in order to give your model more learning time.  To keep things faster, you don't need to increase max_iter past 1000 if you don't want to, but point out when more iterations may have given improvement.\n",
    "\n",
    "In real testing one averages the results of multiple trials per LR (and other parameters) with different intitial conditions (training/test split, initial weights, etc.). That gives more accurate results but is not required for this lab."
   ]
  },
  {
   "cell_type": "code",
   "execution_count": 5,
   "metadata": {
    "id": "KBGUn43ASiXW"
   },
   "outputs": [
    {
     "name": "stderr",
     "output_type": "stream",
     "text": [
      "/tmp/ipykernel_204318/831119020.py:52: FutureWarning: Downcasting behavior in `replace` is deprecated and will be removed in a future version. To retain the old behavior, explicitly call `result.infer_objects(copy=False)`. To opt-in to the future behavior, set `pd.set_option('future.no_silent_downcasting', True)`\n",
      "  cut_vowel_df['Speaker Number'] = cut_vowel_df['Speaker Number'].replace({\n",
      "/tmp/ipykernel_204318/831119020.py:70: FutureWarning: Downcasting behavior in `replace` is deprecated and will be removed in a future version. To retain the old behavior, explicitly call `result.infer_objects(copy=False)`. To opt-in to the future behavior, set `pd.set_option('future.no_silent_downcasting', True)`\n",
      "  cut_vowel_df['Sex'] = cut_vowel_df['Sex'].replace({\n",
      "/tmp/ipykernel_204318/831119020.py:76: FutureWarning: Downcasting behavior in `replace` is deprecated and will be removed in a future version. To retain the old behavior, explicitly call `result.infer_objects(copy=False)`. To opt-in to the future behavior, set `pd.set_option('future.no_silent_downcasting', True)`\n",
      "  cut_vowel_df['Class'] = cut_vowel_df['Class'].replace({\n"
     ]
    },
    {
     "data": {
      "text/html": [
       "<div>\n",
       "<style scoped>\n",
       "    .dataframe tbody tr th:only-of-type {\n",
       "        vertical-align: middle;\n",
       "    }\n",
       "\n",
       "    .dataframe tbody tr th {\n",
       "        vertical-align: top;\n",
       "    }\n",
       "\n",
       "    .dataframe thead th {\n",
       "        text-align: right;\n",
       "    }\n",
       "</style>\n",
       "<table border=\"1\" class=\"dataframe\">\n",
       "  <thead>\n",
       "    <tr style=\"text-align: right;\">\n",
       "      <th></th>\n",
       "      <th>Speaker Number</th>\n",
       "      <th>Sex</th>\n",
       "      <th>Feature 0</th>\n",
       "      <th>Feature 1</th>\n",
       "      <th>Feature 2</th>\n",
       "      <th>Feature 3</th>\n",
       "      <th>Feature 4</th>\n",
       "      <th>Feature 5</th>\n",
       "      <th>Feature 6</th>\n",
       "      <th>Feature 7</th>\n",
       "      <th>Feature 8</th>\n",
       "      <th>Feature 9</th>\n",
       "      <th>Class</th>\n",
       "    </tr>\n",
       "  </thead>\n",
       "  <tbody>\n",
       "    <tr>\n",
       "      <th>0</th>\n",
       "      <td>14</td>\n",
       "      <td>0</td>\n",
       "      <td>-3.639</td>\n",
       "      <td>0.418</td>\n",
       "      <td>-0.670</td>\n",
       "      <td>1.779</td>\n",
       "      <td>-0.168</td>\n",
       "      <td>1.627</td>\n",
       "      <td>-0.388</td>\n",
       "      <td>0.529</td>\n",
       "      <td>-0.874</td>\n",
       "      <td>-0.814</td>\n",
       "      <td>0</td>\n",
       "    </tr>\n",
       "    <tr>\n",
       "      <th>1</th>\n",
       "      <td>14</td>\n",
       "      <td>0</td>\n",
       "      <td>-3.327</td>\n",
       "      <td>0.496</td>\n",
       "      <td>-0.694</td>\n",
       "      <td>1.365</td>\n",
       "      <td>-0.265</td>\n",
       "      <td>1.933</td>\n",
       "      <td>-0.363</td>\n",
       "      <td>0.510</td>\n",
       "      <td>-0.621</td>\n",
       "      <td>-0.488</td>\n",
       "      <td>1</td>\n",
       "    </tr>\n",
       "    <tr>\n",
       "      <th>2</th>\n",
       "      <td>14</td>\n",
       "      <td>0</td>\n",
       "      <td>-2.120</td>\n",
       "      <td>0.894</td>\n",
       "      <td>-1.576</td>\n",
       "      <td>0.147</td>\n",
       "      <td>-0.707</td>\n",
       "      <td>1.559</td>\n",
       "      <td>-0.579</td>\n",
       "      <td>0.676</td>\n",
       "      <td>-0.809</td>\n",
       "      <td>-0.049</td>\n",
       "      <td>2</td>\n",
       "    </tr>\n",
       "    <tr>\n",
       "      <th>3</th>\n",
       "      <td>14</td>\n",
       "      <td>0</td>\n",
       "      <td>-2.287</td>\n",
       "      <td>1.809</td>\n",
       "      <td>-1.498</td>\n",
       "      <td>1.012</td>\n",
       "      <td>-1.053</td>\n",
       "      <td>1.060</td>\n",
       "      <td>-0.567</td>\n",
       "      <td>0.235</td>\n",
       "      <td>-0.091</td>\n",
       "      <td>-0.795</td>\n",
       "      <td>3</td>\n",
       "    </tr>\n",
       "    <tr>\n",
       "      <th>4</th>\n",
       "      <td>14</td>\n",
       "      <td>0</td>\n",
       "      <td>-2.598</td>\n",
       "      <td>1.938</td>\n",
       "      <td>-0.846</td>\n",
       "      <td>1.062</td>\n",
       "      <td>-1.633</td>\n",
       "      <td>0.764</td>\n",
       "      <td>0.394</td>\n",
       "      <td>-0.150</td>\n",
       "      <td>0.277</td>\n",
       "      <td>-0.396</td>\n",
       "      <td>4</td>\n",
       "    </tr>\n",
       "  </tbody>\n",
       "</table>\n",
       "</div>"
      ],
      "text/plain": [
       "   Speaker Number  Sex  Feature 0  Feature 1  Feature 2  Feature 3  Feature 4  \\\n",
       "0              14    0     -3.639      0.418     -0.670      1.779     -0.168   \n",
       "1              14    0     -3.327      0.496     -0.694      1.365     -0.265   \n",
       "2              14    0     -2.120      0.894     -1.576      0.147     -0.707   \n",
       "3              14    0     -2.287      1.809     -1.498      1.012     -1.053   \n",
       "4              14    0     -2.598      1.938     -0.846      1.062     -1.633   \n",
       "\n",
       "   Feature 5  Feature 6  Feature 7  Feature 8  Feature 9  Class  \n",
       "0      1.627     -0.388      0.529     -0.874     -0.814      0  \n",
       "1      1.933     -0.363      0.510     -0.621     -0.488      1  \n",
       "2      1.559     -0.579      0.676     -0.809     -0.049      2  \n",
       "3      1.060     -0.567      0.235     -0.091     -0.795      3  \n",
       "4      0.764      0.394     -0.150      0.277     -0.396      4  "
      ]
     },
     "execution_count": 5,
     "metadata": {},
     "output_type": "execute_result"
    }
   ],
   "source": [
    "# Train with different learning rates\n",
    "\n",
    "from scipy.io import arff\n",
    "import pandas as pd\n",
    "\n",
    "pd.set_option(\"display.max_columns\", 85)\n",
    "# pd.set_option('future.no_silent_downcasting', True)\n",
    "\n",
    "\n",
    "# Load the ARFF file\n",
    "data, meta = arff.loadarff(\"datasets/vowel.arff\")\n",
    "\n",
    "# Convert to a pandas DataFrame\n",
    "vowel_df = pd.DataFrame(data)\n",
    "\n",
    "# print(vowel_df.info())\n",
    "\n",
    "cut_vowel_df = vowel_df.iloc[: , 1:]\n",
    "# # Show dataset summary\n",
    "# print(df.head())\n",
    "\n",
    "# # Get class distribution (assuming your class attribute is named 'class')\n",
    "# class_counts = df['Train or Test'].value_counts()\n",
    "# print(\"Class counts:\\n\", class_counts)\n",
    "\n",
    "# print(cut_vowel_df.info())\n",
    "\n",
    "# cut_vowel_df['Sex'] = cut_vowel_df['Sex'].apply(\n",
    "#     lambda x: x.decode('utf-8') if isinstance(x, bytes) else x\n",
    "# )\n",
    "\n",
    "\n",
    "# cut_vowel_df['Sex'] = cut_vowel_df['Sex'].str.decode('utf-8')\n",
    "\n",
    "# From: 0                       To: Andrew              \n",
    "# %    From: 1                       To: Bill                \n",
    "# %    From: 2                       To: David               \n",
    "# %    From: 3                       To: Mark                \n",
    "# %    From: 4                       To: Jo                  \n",
    "# %    From: 5                       To: Kate                \n",
    "# %    From: 6                       To: Penny               \n",
    "# %    From: 7                       To: Rose                \n",
    "# %    From: 8                       To: Mike                \n",
    "# %    From: 9                       To: Nick                \n",
    "# %    From: 10                      To: Rich                \n",
    "# %    From: 11                      To: Tim                 \n",
    "# %    From: 12                      To: Sarah               \n",
    "# %    From: 13                      To: Sue                 \n",
    "# %    From: 14                      To: Wendy        \n",
    "# \n",
    "\n",
    "cut_vowel_df['Speaker Number'] = cut_vowel_df['Speaker Number'].replace({\n",
    "    b'Bill': 0,\n",
    "    b'David': 1,\n",
    "    b'Mark': 2,\n",
    "    b'Jo': 3,\n",
    "    b'Kate': 4,\n",
    "    b'Penny': 5,\n",
    "    b'Rose': 6,\n",
    "    b'Mike': 7,\n",
    "    b'Nick': 8,\n",
    "    b'Rich': 9,\n",
    "    b'Tim': 10,\n",
    "    b'Sarah': 11,\n",
    "    b'Sue': 12,\n",
    "    b'Wendy': 13,\n",
    "    b'Andrew': 14,\n",
    "    }).astype(int)\n",
    "\n",
    "cut_vowel_df['Sex'] = cut_vowel_df['Sex'].replace({\n",
    "    b'Male': 0,\n",
    "    b'Female': 1\n",
    "    }).astype(int)\n",
    "# cut_vowel_df = cut_vowel_df.replace(b'Female', 1).astype(int)\n",
    "\n",
    "cut_vowel_df['Class'] = cut_vowel_df['Class'].replace({\n",
    "    b'hid': 0, \n",
    "    b'hId': 1,\n",
    "    b'hEd': 2,\n",
    "    b'hAd': 3,\n",
    "    b'hYd': 4,\n",
    "    b'had': 5,\n",
    "    b'hOd': 6,\n",
    "    b'hod': 7,\n",
    "    b'hUd': 8,\n",
    "    b'hud': 9,\n",
    "    b'hed': 10\n",
    "    })\n",
    "\n",
    "cut_vowel_df = cut_vowel_df.infer_objects(copy=False)\n",
    "\n",
    "\n",
    "cut_vowel_df.iloc[: , 0:-1]\n",
    "\n",
    "# cut_vowel_df.replace('')\n",
    "\n",
    "cut_vowel_df.head()\n",
    "# cut_vowel_df.info()\n",
    "\n",
    "# cut_vowel_df['Class'].value_counts()\n"
   ]
  },
  {
   "cell_type": "code",
   "execution_count": 6,
   "metadata": {},
   "outputs": [],
   "source": [
    "X = cut_vowel_df.iloc[:, :-1].to_numpy()\n",
    "y = cut_vowel_df.iloc[:, -1].to_numpy()"
   ]
  },
  {
   "cell_type": "code",
   "execution_count": 7,
   "metadata": {},
   "outputs": [
    {
     "data": {
      "text/plain": [
       "True"
      ]
     },
     "execution_count": 7,
     "metadata": {},
     "output_type": "execute_result"
    }
   ],
   "source": [
    "import torch\n",
    "import torch.nn as nn\n",
    "from skorch import NeuralNetClassifier\n",
    "from sklearn.model_selection import train_test_split\n",
    "import numpy as np\n",
    "\n",
    "torch.cuda.is_available()"
   ]
  },
  {
   "cell_type": "code",
   "execution_count": null,
   "metadata": {},
   "outputs": [
    {
     "name": "stdout",
     "output_type": "stream",
     "text": [
      "Learning Rate Value: 1\n"
     ]
    },
    {
     "name": "stdout",
     "output_type": "stream",
     "text": [
      "Training Accuracy: 0.0876010781671159\n",
      "Testing Accuracy: 0.10080645161290322\n",
      "-----------------------------------------------\n",
      "Learning Rate Value: 0.1\n",
      "Training Accuracy: 0.10107816711590296\n",
      "Testing Accuracy: 0.06048387096774194\n",
      "-----------------------------------------------\n"
     ]
    }
   ],
   "source": [
    "\n",
    "# Define your model architecture\n",
    "class MLP(nn.Module):\n",
    "    def __init__(self, input_dim, output_dim):\n",
    "        super().__init__()\n",
    "        self.layers = nn.Sequential(\n",
    "            # nn.Linear(input_dim, 64),\n",
    "            nn.Linear(input_dim, 1024),\n",
    "            nn.Sigmoid(),  # \"logistic\" activation\n",
    "            # nn.Linear(64, output_dim),\n",
    "            nn.Linear(1024, output_dim),\n",
    "        )\n",
    "\n",
    "    def forward(self, x):\n",
    "        return self.layers(x)\n",
    "\n",
    "# Example data (replace with your X, y)\n",
    "# X and y should be numpy arrays\n",
    "# X.shape = (n_samples, n_features)\n",
    "# y.shape = (n_samples,)\n",
    "# X, y = ...\n",
    "\n",
    "X_train, X_test, y_train, y_test = train_test_split(X, y, test_size=0.25, train_size=0.75)\n",
    "\n",
    "def learningRate(X_train, y_train, lr):\n",
    "    input_dim = X_train.shape[1]\n",
    "    output_dim = len(np.unique(y_train))\n",
    "\n",
    "    net = NeuralNetClassifier(\n",
    "        MLP,\n",
    "        module__input_dim=input_dim,\n",
    "        module__output_dim=output_dim,\n",
    "        max_epochs=1000,\n",
    "        lr=lr,\n",
    "        batch_size=1024,\n",
    "        optimizer=torch.optim.SGD,\n",
    "        iterator_train__shuffle=True,\n",
    "        verbose=0,\n",
    "        device='cuda' if torch.cuda.is_available() else 'cpu',  # ✅ GPU here\n",
    "    )\n",
    "\n",
    "    net.fit(X_train.astype(np.float32), y_train.astype(np.int64))\n",
    "    return net\n",
    "\n",
    "learning_rates = [\n",
    "    # 100, \n",
    "    # 20, \n",
    "    # 10, \n",
    "    # 1, \n",
    "    0.1, \n",
    "    0.01, \n",
    "    # 0.001, \n",
    "    # 0.0001, \n",
    "    # 0.00001\n",
    "]\n",
    "\n",
    "for lr in learning_rates:\n",
    "\n",
    "    print(f\"Learning Rate Value: {lr}\")\n",
    "    \n",
    "    clf = learningRate(X_train, y_train, lr)\n",
    "\n",
    "    print(f\"Training Accuracy: {clf.score(X_train.astype(np.float32), y_train)}\")\n",
    "    print(f\"Testing Accuracy: {clf.score(X_test.astype(np.float32), y_test)}\")\n",
    "    print(\"-----------------------------------------------\")\n"
   ]
  },
  {
   "cell_type": "code",
   "execution_count": null,
   "metadata": {},
   "outputs": [
    {
     "name": "stdout",
     "output_type": "stream",
     "text": [
      "Learning Rate Value: 100\n",
      "Training Accuracy: 0.09299191374663072\n",
      "Testing Accuracy: 0.0846774193548387\n",
      "Epochs Ran: 166\n",
      "-----------------------------------------------\n"
     ]
    },
    {
     "data": {
      "text/plain": [
       "array([[ 6.   ,  1.   , -4.393, ..., -0.461, -0.277,  1.184],\n",
       "       [ 2.   ,  0.   , -2.554, ...,  0.894,  0.05 ,  0.084],\n",
       "       [ 1.   ,  0.   , -3.834, ...,  1.191,  0.425, -0.104],\n",
       "       ...,\n",
       "       [ 8.   ,  0.   , -2.538, ...,  0.835, -0.712, -0.074],\n",
       "       [ 4.   ,  1.   , -2.882, ...,  0.502, -0.093, -0.616],\n",
       "       [ 6.   ,  1.   , -3.749, ...,  0.9  , -1.613,  0.128]],\n",
       "      shape=(742, 12))"
      ]
     },
     "execution_count": 14,
     "metadata": {},
     "output_type": "execute_result"
    }
   ],
   "source": [
    "def learningRate(X_train, y_train, lr):\n",
    "\n",
    "    clf = MLPClassifier(\n",
    "        hidden_layer_sizes=64,\n",
    "        activation=\"logistic\",\n",
    "        solver=\"sgd\",\n",
    "        # alpha=alpha_val,\n",
    "        batch_size=1,\n",
    "        learning_rate_init=lr,\n",
    "        shuffle=True,\n",
    "        momentum=0,\n",
    "        n_iter_no_change=50,\n",
    "        max_iter=10000,\n",
    "        # early_stopping=True,\n",
    "    ).fit(X_train, y_train)\n",
    "    \n",
    "    return clf\n",
    "\n",
    "X_train, X_test, y_train, y_test = train_test_split(\n",
    "    X, y,\n",
    "    test_size=0.25,\n",
    "    train_size=0.75,\n",
    "    # random_state=1\n",
    ")\n",
    "\n",
    "learning_rates = [\n",
    "    100, \n",
    "    # 20, \n",
    "    # 10, \n",
    "    # 1, \n",
    "    # 0.1, \n",
    "    # 0.01, \n",
    "    # 0.001, \n",
    "    # 0.0001, \n",
    "    # 0.00001\n",
    "    ]\n",
    "\n",
    "\n",
    "\n",
    "for lr in learning_rates:\n",
    "    clf = learningRate(X_train, y_train, lr)\n",
    "\n",
    "    print(f\"Learning Rate Value: {lr}\")\n",
    "    print(f\"Training Accuracy: {clf.score(X_train, y_train)}\")\n",
    "    print(f\"Testing Accuracy: {clf.score(X_test, y_test)}\")\n",
    "    print(f\"Epochs Ran: {clf.n_iter_}\")\n",
    "    # print(f\"Best Validation Score: {best_loss_val_total / itters}\")\n",
    "    print(\"-----------------------------------------------\")\n",
    "\n",
    "\n",
    "# X_train"
   ]
  },
  {
   "cell_type": "markdown",
   "metadata": {
    "id": "xpjJBIwktlxt"
   },
   "source": [
    "#### Discussion\n",
    "Discuss your table and the effect of different learning rates on both training time and accuracy"
   ]
  },
  {
   "cell_type": "markdown",
   "metadata": {},
   "source": [
    "\n",
    "| Learning Rate Value | Training Accuracy   | Testing Accuracy    | Epochs Ran |\n",
    "| ------------------- | ------------------- | ------------------- | ---------- |\n",
    "| 100                 | 0.09433962264150944 | 0.08064516129032258 | 60         |\n",
    "| 20                  | 0.09164420485175202 | 0.08870967741935484 | 85         |\n",
    "| 10                  | 0.0876010781671159  | 0.10080645161290322 | 52         |\n",
    "| 1                   | 0.1347708894878706  | 0.125               | 57         |\n",
    "| 0.1                 | 0.7035040431266847  | 0.6693548387096774  | 95         |\n",
    "| 0.01                | 0.9986522911051213  | 0.9637096774193549  | 858        |\n",
    "| 0.001               | 0.9946091644204852  | 0.9516129032258065  | 4555       |\n",
    "| 0.0001              | 0.7951482479784366  | 0.7338709677419355  | 8423       |\n",
    "| 0.00001             | 0.09433962264150944 | 0.09274193548387097 | 211        |\n",
    "Total time: 13m 8s"
   ]
  },
  {
   "cell_type": "markdown",
   "metadata": {},
   "source": [
    "** Your discussion goes here **\n",
    "\n",
    "It looks like from my calculations that as learning rate goes down, accuracy, epochs until convergance, and time to train goes up. This appears to be with demishing returns, as it apears that when I ran the algorithm with a learning rate of 0.00001, the epochs, learning rate, and accuracy all went down, and with a learning rate equal to 0.0001, the epochs still went up, but the accuracy for both the testing and the training went down. It appears from my findings that the best learning rate for accuracy is 0.01."
   ]
  },
  {
   "cell_type": "markdown",
   "metadata": {
    "id": "A-nUu5Txtlxt"
   },
   "source": [
    "### 2.3 (10%) Number of Hidden Nodes\n",
    "\n",
    "Using the best LR you discovered, experiment with different numbers of hidden nodes.\n",
    "\n",
    "- Start with 1 hidden node, then 2, and then double them for each test until you get no more improvement in accuracy. \n",
    "- Create a table just like above, except with # of hidden nodes rather than LR.\n",
    "\n",
    "In general, whenever you are testing a parameter such as # of hidden nodes, keep testing values until no more improvement is found. For example, if 20 hidden nodes did better than 10, you would not stop at 20, but would try 40, etc., until you no longer got improvement."
   ]
  },
  {
   "cell_type": "code",
   "execution_count": 15,
   "metadata": {
    "id": "uLqeA1iutlxt"
   },
   "outputs": [
    {
     "name": "stdout",
     "output_type": "stream",
     "text": [
      "Hidden Node Ammount: 1\n",
      "Training Accuracy: 0.18194070080862534\n",
      "Testing Accuracy: 0.2056451612903226\n",
      "Epochs Ran: 349\n",
      "-----------------------------------------------\n"
     ]
    }
   ],
   "source": [
    "# Train with different numbers of hidden nodes\n",
    "\n",
    "def hiddenNodes(X_train, y_train, hidden_nodes):\n",
    "\n",
    "    clf = MLPClassifier(\n",
    "        hidden_layer_sizes=hidden_nodes,\n",
    "        activation=\"logistic\",\n",
    "        solver=\"sgd\",\n",
    "        # alpha=alpha_val,\n",
    "        batch_size=1,\n",
    "        learning_rate_init=0.01,\n",
    "        shuffle=True,\n",
    "        momentum=0,\n",
    "        n_iter_no_change=50,\n",
    "        max_iter=10000,\n",
    "        # early_stopping=True,\n",
    "    ).fit(X_train, y_train)\n",
    "    \n",
    "    return clf\n",
    "\n",
    "# itters = 20\n",
    "itters = 1\n",
    "\n",
    "curr_best = 0\n",
    "\n",
    "for i in range(itters):\n",
    "\n",
    "    print(f\"Hidden Node Ammount: {2 ** i}\")\n",
    "\n",
    "    clf = hiddenNodes(X_train, y_train, 2 ** i)\n",
    "    \n",
    "    print(f\"Training Accuracy: {clf.score(X_train, y_train)}\")\n",
    "    print(f\"Testing Accuracy: {clf.score(X_test, y_test)}\")\n",
    "    print(f\"Epochs Ran: {clf.n_iter_}\")\n",
    "    print(\"-----------------------------------------------\")\n",
    "\n",
    "    if (clf.score(X_test, y_test) < curr_best):\n",
    "        break\n",
    "    curr_best = clf.score(X_test, y_test)\n",
    "\n",
    "\n",
    "\n",
    "#Go through and do the experiments, be a scientist, just try adding more hidden nodes, see what happens, does it change the results a bunch?"
   ]
  },
  {
   "cell_type": "markdown",
   "metadata": {
    "id": "CLliSMtXtlxt"
   },
   "source": [
    "#### Discussion\n",
    "Discuss your table and the effect of different numbers of hidden nodes on both training time and accuracy"
   ]
  },
  {
   "cell_type": "markdown",
   "metadata": {},
   "source": [
    "** Your discussion goes here **\n",
    "\n",
    "It appears that increasing the ammount of hidden nodes increased the training accuracy, to a point, once I tried 1024 nodes, then it stopped improving and started decreasing in performance\n",
    "\n",
    "Every doubling in nodes increased accuracy by a small amount, but it also increased training time by a lot more. I think this is because as more nodes are added, the model becomes more complex and takes longer to train."
   ]
  },
  {
   "cell_type": "markdown",
   "metadata": {
    "id": "v72ryeHXtlxu"
   },
   "source": [
    "### 2.4 (10%) Momentum\n",
    "\n",
    "Try at least 5 different momentum terms between 0 and just less than 1 using the best number of hidden nodes and LR from your earlier experiments.\n",
    "\n",
    "- Create a table just like above, except with momentum values rather than LR or number of hidden nodes."
   ]
  },
  {
   "cell_type": "code",
   "execution_count": null,
   "metadata": {
    "id": "yiEBTL6Vtlxu"
   },
   "outputs": [
    {
     "name": "stdout",
     "output_type": "stream",
     "text": [
      "Momentum Ammount: 0.01\n"
     ]
    }
   ],
   "source": [
    "# Train with different momentum values\n",
    "\n",
    "import time\n",
    "\n",
    "def momentum(X_train, y_train, curr_momentum):\n",
    "\n",
    "    clf = MLPClassifier(\n",
    "        hidden_layer_sizes=1028,\n",
    "        activation=\"logistic\",\n",
    "        solver=\"sgd\",\n",
    "        # alpha=alpha_val,\n",
    "        batch_size=1,\n",
    "        learning_rate_init=0.01,\n",
    "        shuffle=True,\n",
    "        momentum=curr_momentum,\n",
    "        n_iter_no_change=50,\n",
    "        max_iter=10000,\n",
    "        # early_stopping=True,\n",
    "    ).fit(X_train, y_train)\n",
    "    \n",
    "    return clf\n",
    "\n",
    "# itters = 20\n",
    "# curr_best = 0\n",
    "\n",
    "# momentums = [0.01, 0.2, 0.4, 0.6, 0.8, 0.99]\n",
    "\n",
    "# for curr_momentum in momentums:\n",
    "#     start_time = time.time()\n",
    "\n",
    "#     print(f\"Momentum Ammount: {curr_momentum}\")\n",
    "\n",
    "#     clf = momentum(X_train, y_train, curr_momentum)\n",
    "    \n",
    "#     end_time = time.time()  # Capture end time\n",
    "#     elapsed_time = end_time - start_time  # Calculate elapsed time in seconds\n",
    "    \n",
    "#     # Convert to minutes and seconds\n",
    "#     minutes = int(elapsed_time // 60)\n",
    "#     seconds = elapsed_time % 60\n",
    "\n",
    "#     print(f\"Training Accuracy: {clf.score(X_train, y_train)}\")\n",
    "#     print(f\"Testing Accuracy: {clf.score(X_test, y_test)}\")\n",
    "#     print(f\"Epochs Ran: {clf.n_iter_}\")\n",
    "#     print(f\"Time for this loop: {seconds:.2f} seconds ({minutes} minutes {seconds:.2f} seconds)\")\n",
    "#     print(\"-----------------------------------------------\")\n"
   ]
  },
  {
   "cell_type": "markdown",
   "metadata": {
    "id": "LqidhekCtlxu"
   },
   "source": [
    "#### Discussion\n",
    "Discuss your table and the effect of momentum on both training time and accuracy"
   ]
  },
  {
   "cell_type": "markdown",
   "metadata": {},
   "source": [
    "** Your discussion goes here **"
   ]
  },
  {
   "cell_type": "markdown",
   "metadata": {
    "id": "7hHxNgUCtlxv"
   },
   "source": [
    "### 2.5 (10%) Automatic Hyperparameter Discovery\n",
    "Using the vowel dataset, automatically adjust the LR, # of hidden nodes, and momentum using [grid and random search](https://scikit-learn.org/stable/modules/grid_search.html) \n",
    "- For grid search include the most promising hyperparameter values you used in your experiments above.  You may add others also.\n",
    "- Be patient as the grid search can take a while since it has to train all combinations of models. Don't use too many parameter options or it will be too slow.\n",
    "- Report your best hyperparameters and accuracy.  Unfortunately, you will not always get as high a score as you might expect.  This is in part due to the simplicity of the dataset.  It also teaches that in gerneral you should not blindly assume that a tool will get you the results you expect, and that you may need to consider multiple approaches."
   ]
  },
  {
   "cell_type": "code",
   "execution_count": null,
   "metadata": {},
   "outputs": [
    {
     "name": "stdout",
     "output_type": "stream",
     "text": [
      "Best parameters found by grid search:\n",
      "{'batch_size': 64, 'lr': 0.001, 'module__hidden_units': 64, 'optimizer__momentum': 0}\n",
      "Best cross-validation accuracy:\n",
      "0.1272727272727273\n",
      "Best parameters found by randomized search:\n",
      "{'batch_size': 128, 'lr': np.float64(0.0457069984217036), 'module__hidden_units': 32, 'optimizer__momentum': np.float64(0.6122021492397565)}\n",
      "Best cross-validation accuracy:\n",
      "0.10303030303030303\n"
     ]
    }
   ],
   "source": [
    "import torch\n",
    "import torch.nn as nn\n",
    "from skorch import NeuralNetClassifier\n",
    "from sklearn.model_selection import GridSearchCV, RandomizedSearchCV\n",
    "from scipy.stats import uniform\n",
    "import numpy as np\n",
    "\n",
    "# Define the MLP model that will be fed into the NeuralNetClassifier\n",
    "class MLP(nn.Module):\n",
    "    def __init__(self, input_dim, hidden_units, output_dim):\n",
    "        super().__init__()\n",
    "        self.layers = nn.Sequential(\n",
    "            nn.Linear(input_dim, hidden_units),\n",
    "            nn.Sigmoid(),  # logistic activation\n",
    "            nn.Linear(hidden_units, output_dim),\n",
    "        )\n",
    "\n",
    "    def forward(self, x):\n",
    "        return self.layers(x)\n",
    "\n",
    "# X, y are the numpy datasets with the correct shapes/dementions\n",
    "input_dim = X.shape[1]\n",
    "output_dim = len(np.unique(y))\n",
    "\n",
    "# Wrap skorch classifier with placeholder values (will be overridden by grid/random searches)\n",
    "net = NeuralNetClassifier(\n",
    "    MLP,\n",
    "    module__input_dim=input_dim,\n",
    "    module__hidden_units=64,   # default value, will be overridden\n",
    "    module__output_dim=output_dim,\n",
    "    max_epochs=100,\n",
    "    lr=0.01,\n",
    "    batch_size=64,\n",
    "    optimizer=torch.optim.SGD,\n",
    "    device='cuda' if torch.cuda.is_available() else 'cpu',\n",
    "    iterator_train__shuffle=True,\n",
    "    verbose=0,   # Turn off verbose output for faster runs\n",
    ")\n",
    "\n",
    "# Define param grid for grid search\n",
    "param_grid = {\n",
    "    'lr': [0.001, 0.01, 0.1],\n",
    "    'module__hidden_units': [8, 32, 64],\n",
    "    'optimizer__momentum': [0, 0.5, 0.9],\n",
    "    'batch_size': [32, 64],\n",
    "}\n",
    "\n",
    "grid_search = GridSearchCV(net, param_grid, cv=3, scoring='accuracy', refit=True)\n",
    "grid_search.fit(X.astype(np.float32), y.astype(np.int64))\n",
    "\n",
    "print(\"Best parameters found by grid search:\")\n",
    "print(grid_search.best_params_)\n",
    "print(\"Best cross-validation accuracy:\")\n",
    "print(grid_search.best_score_)\n",
    "\n",
    "# Optional: Randomized search with distributions\n",
    "param_dist = {\n",
    "    'lr': uniform(0.0001, 0.1),  # uniform distribution between 0.0001 and 0.1001\n",
    "    'module__hidden_units': [8, 16, 32, 64],\n",
    "    'optimizer__momentum': uniform(0, 0.99),\n",
    "    'batch_size': [32, 64, 128],\n",
    "}\n",
    "\n",
    "random_search = RandomizedSearchCV(net, param_dist, n_iter=10, cv=3, scoring='accuracy', refit=True, random_state=42)\n",
    "random_search.fit(X.astype(np.float32), y.astype(np.int64))\n",
    "\n",
    "print(\"Best parameters found by randomized search:\")\n",
    "print(random_search.best_params_)\n",
    "print(\"Best cross-validation accuracy:\")\n",
    "print(random_search.best_score_)\n"
   ]
  },
  {
   "cell_type": "code",
   "execution_count": 11,
   "metadata": {},
   "outputs": [
    {
     "ename": "SyntaxError",
     "evalue": "invalid syntax (3443394620.py, line 6)",
     "output_type": "error",
     "traceback": [
      "  \u001b[36mCell\u001b[39m\u001b[36m \u001b[39m\u001b[32mIn[11]\u001b[39m\u001b[32m, line 6\u001b[39m\n\u001b[31m    \u001b[39m\u001b[31mparameters = {'learning_rate_init':( .001, ?, ....), #You have to fill in the rest of your values for these lists\u001b[39m\n                                               ^\n\u001b[31mSyntaxError\u001b[39m\u001b[31m:\u001b[39m invalid syntax\n"
     ]
    }
   ],
   "source": [
    "#Grid search for hyperparameters.\n",
    "#Here is one variation of code you could use for your grid search. You can try your own variation if you prefer.\n",
    "\n",
    "from sklearn.model_selection import GridSearchCV\n",
    "clf = MLPClassifier(activation='logistic', solver='sgd',alpha=0,early_stopping=True, n_iter_no_change=10, batch_size=1)\n",
    "parameters = {'learning_rate_init':( .001, ?, ....), #You have to fill in the rest of your values for these lists\n",
    "              'hidden_layer_sizes': ([8], [?], ...),\n",
    "              'momentum':(0, ?, ...)\n",
    "grid = GridSearchCV(clf, parameters)\n",
    "grid.fit(X,Y)    #This takes a while to run\n",
    "print(grid.best_params_)\n",
    "print(grid.best_score_)"
   ]
  },
  {
   "cell_type": "code",
   "execution_count": null,
   "metadata": {},
   "outputs": [],
   "source": [
    "#Randomized search for hyperparameters\n",
    "#Here is one variation of code you could use for your randomized search.\n",
    "\n",
    "from sklearn.model_selection import RandomizedSearchCV\n",
    "from scipy.stats import uniform\n",
    "clf = MLPClassifier(activation='logistic', solver='sgd',alpha=0,early_stopping=True, n_iter_no_change=10, batch_size=1)\n",
    "distributions = dict(learning_rate_init=uniform(loc=?, scale=?), #loc is the min val, and loc + scale is the max val\n",
    "                    hidden_layer_sizes = ([8], [?], ...), #since there is no distribution it samples these values uniformly\n",
    "                    momentum=uniform(loc=0,scale =.99))\n",
    "search = RandomizedSearchCV(clf, distributions, n_iter=10)\n",
    "search.fit(X,Y)\n",
    "print(search.best_params_)\n",
    "print(search.best_score_)"
   ]
  },
  {
   "cell_type": "markdown",
   "metadata": {
    "id": "BqSFAXwlk3Ms"
   },
   "source": [
    "#### Discussion\n",
    "Write about and compare grid and randomized parameter search. How much time do they take? Which is more efficient or accurate? When should you use each?"
   ]
  },
  {
   "cell_type": "markdown",
   "metadata": {},
   "source": [
    "** Your discussion goes here **"
   ]
  },
  {
   "cell_type": "markdown",
   "metadata": {
    "id": "lIM0rEA9tlxu"
   },
   "source": [
    "## 3 Regression with MLPs\n",
    "\n",
    "### 3.1 (10%) - Learn a regression data set of your choice\n",
    "\n",
    "Train MLP on any real world data set that requires regression (i.e. has a real valued ouput) and discuss your effort and results.  While the [Irvine ML Repository](https://archive.ics.uci.edu) is a great resource, also onsider [Kaggle](https://www.kaggle.com) and [OpenML](https://openml.org) as other great places to find datasets.\n",
    "- Use [MLPRegressor](https://scikit-learn.org/stable/modules/generated/sklearn.neural_network.MLPRegressor.html#sklearn.neural_network.MLPRegressor) rather than MLPclassifier.  It has almost the exact same setup as MLPClassier except it uses the linear activation function for the output nodes and SSE as the loss function.  MLPClassier uses softmax activation for the output nodes and cross-entropy for the loss function.\n",
    "- Use any reasonable hyperparameters that you want.  \n",
    "- You will probably need to normalize input features.\n",
    "- It is not typically necessary to normalize the output.\n",
    "- Split into train and test and report the training and test set MAEs (Mean Absolute Error). For regression problems where we don't normalize the output, MAE is an intuitive measure as it shows exactly how much our output is off on average."
   ]
  },
  {
   "cell_type": "code",
   "execution_count": null,
   "metadata": {
    "id": "OFQv70W2VyqJ"
   },
   "outputs": [],
   "source": [
    "# Load and Learn a real world regression data set\n",
    "# To calculate MAE you could do a variation of the following\n",
    "\n",
    "from sklearn.metrics import mean_absolute_error\n",
    "print(mean_absolute_error(clf.predict(X_test), y_test))\n",
    "\n"
   ]
  },
  {
   "cell_type": "markdown",
   "metadata": {},
   "source": [
    "#### Discussion\n",
    "Report on your choice of data set and your results. How does the MLPRegressor differ from the MLPClassifier? What are their respective uses? What lessons from above did you use?"
   ]
  },
  {
   "cell_type": "markdown",
   "metadata": {},
   "source": [
    "** Your discussion goes here **"
   ]
  },
  {
   "cell_type": "markdown",
   "metadata": {},
   "source": [
    "### 3.2 (10%) - Other MLP Hyperparameters \n",
    "With the same data set, you may (not required) experiment with some of the hyperparameters you already did above (LR, hidden nodes, momentum, validation set parameters, regularization).  But for sure experiment with and discuss the results of the first two hyperparameters below (activation functions and multiple hidden layers).  We encourage you to experiment briefly with the others but they are not required. \n",
    "\n",
    "- different hidden layer activation functions (tanh, relu in addition to logistic) - Note that Sklearn does not currently let you choose the output layer activation function.  It is automatically softmax for classification and linear for regression.\n",
    "- more than one hidden layer\n",
    "- solver - try adam and lbfgs in addition to sgd\n",
    "- batch size\n",
    "- learning rate adaptation - this is the schedule parameter which lets LR adapt during learning"
   ]
  },
  {
   "cell_type": "code",
   "execution_count": null,
   "metadata": {
    "id": "Hu1JE4vStlxv"
   },
   "outputs": [],
   "source": [
    "# Run with different hyperparameters"
   ]
  },
  {
   "cell_type": "markdown",
   "metadata": {
    "id": "HScVQasltlxv"
   },
   "source": [
    "#### Discussion\n",
    "How do the hyperparameters affect your accuracy? Specifically the number of layers and nodes and activation functions you experimented with. Do the solver, batch size, and learning rate adaptation affect anything?\n"
   ]
  },
  {
   "cell_type": "markdown",
   "metadata": {},
   "source": [
    "** Your discussion goes here **"
   ]
  },
  {
   "cell_type": "markdown",
   "metadata": {
    "id": "cTlK-kijk8Mg"
   },
   "source": [
    "## 4. (Optional 20% extra credit) Code up your own MLP/Backprop learner \n",
    "Below is a scaffold you could use if you want. Requirements for this task:\n",
    "- Your model should support the methods shown in the example scaffold below.\n",
    "- Ability to create a network structure with at least one hidden layer and an arbitrary number of nodes. You may choose just one non-linear activation function for all hidden and output nodes if you want (e.g. sigmoid activation function where the loss is SSE rather than cross-entropy).\n",
    "- Random weight initialization with small random weights with 0 mean. Remember that every hidden and output node should have its own bias weight.\n",
    "- Use stochastic training updates: update weights after each training instance (i.e. not batch)\n",
    "- Option to include a momentum term\n",
    "- Your class can inherit from the relevant scikit-learn learners (e.g. data shuffling, etc.), but don't call any of the super methods to accomplish the core methods in the scaffold.\n",
    "- Run the Iris data set above with your Backprop version. Show and discuss your results and how they compare with the sklearn version.\n",
    "- Coding MLP is a good experience but is a little more challening than implementing other models so the extra credit points are higher than typical."
   ]
  },
  {
   "cell_type": "markdown",
   "metadata": {
    "id": "rokMDC3Qtlxv"
   },
   "source": [
    "*Discuss your results and any differences*"
   ]
  },
  {
   "cell_type": "code",
   "execution_count": null,
   "metadata": {
    "id": "hn8n_iR8tlxv"
   },
   "outputs": [],
   "source": [
    "from sklearn.base import BaseEstimator, ClassifierMixin\n",
    "\n",
    "class MLP(BaseEstimator,ClassifierMixin):\n",
    "\n",
    "    def __init__(self,lr=.1, momentum=0, shuffle=True,hidden_layer_widths=None):\n",
    "        \"\"\" Initialize class with chosen hyperparameters.\n",
    "\n",
    "        Args:\n",
    "            lr (float): A learning rate / step size.\n",
    "            shuffle(boolean): Whether to shuffle the training data each epoch. DO NOT SHUFFLE for evaluation / debug datasets.\n",
    "            momentum(float): The momentum coefficent \n",
    "        Optional Args (Args we think will make your life easier):\n",
    "            hidden_layer_widths (list(int)): A list of integers which defines the width of each hidden layer if hidden layer is none do twice as many hidden nodes as input nodes. (and then one more for the bias node)\n",
    "            For example: input width 1, then hidden layer will be 3 nodes\n",
    "        Example:\n",
    "            mlp = MLP(lr=.2,momentum=.5,shuffle=False,hidden_layer_widths = [3,3]),  <--- this will create a model with two hidden layers, both 3 nodes wide\n",
    "        \"\"\"\n",
    "        self.hidden_layer_widths\n",
    "        self.lr = lr\n",
    "        self.momentum = momentum\n",
    "        self.shuffle = shuffle\n",
    "\n",
    "\n",
    "    def fit(self, X, y, initial_weights=None):\n",
    "        \"\"\" Fit the data; run the algorithm and adjust the weights to find a good solution\n",
    "\n",
    "        Args:\n",
    "            X (array-like): A 2D numpy array with the training data, excluding targets\n",
    "            y (array-like): A 2D numpy array with the training targets\n",
    "        Optional Args (Args we think will make your life easier):\n",
    "            initial_weights (array-like): allows the user to provide initial weights\n",
    "        Returns:\n",
    "            self: this allows this to be chained, e.g. model.fit(X,y).predict(X_test)\n",
    "\n",
    "        \"\"\"\n",
    "        self.weights = self.initialize_weights() if not initial_weights else initial_weights\n",
    "\n",
    "        return self\n",
    "\n",
    "    def predict(self, X):\n",
    "        \"\"\" Predict all classes for a dataset X\n",
    "        Args:\n",
    "            X (array-like): A 2D numpy array with the training data, excluding targets\n",
    "        Returns:\n",
    "            array, shape (n_samples,)\n",
    "                Predicted target values per element in X.\n",
    "        \"\"\"\n",
    "        pass\n",
    "\n",
    "    def initialize_weights(self):\n",
    "        \"\"\" Initialize weights for perceptron. Don't forget the bias!\n",
    "\n",
    "        Returns:\n",
    "\n",
    "        \"\"\"\n",
    "\n",
    "        return [0]\n",
    "\n",
    "    def score(self, X, y):\n",
    "        \"\"\" Return accuracy of model on a given dataset. Must implement own score function.\n",
    "\n",
    "        Args:\n",
    "            X (array-like): A 2D numpy array with data, excluding targets\n",
    "            y (array-like): A 2D numpy array with targets\n",
    "\n",
    "        Returns:\n",
    "            score : float\n",
    "                Mean accuracy of self.predict(X) wrt. y.\n",
    "        \"\"\"\n",
    "\n",
    "        return 0\n",
    "\n",
    "    ###  Returns the weights. Not required but helpful for debugging\n",
    "    def get_weights(self):\n",
    "        pass\n"
   ]
  }
 ],
 "metadata": {
  "colab": {
   "collapsed_sections": [],
   "provenance": []
  },
  "kernelspec": {
   "display_name": "venv (3.13.3)",
   "language": "python",
   "name": "python3"
  },
  "language_info": {
   "codemirror_mode": {
    "name": "ipython",
    "version": 3
   },
   "file_extension": ".py",
   "mimetype": "text/x-python",
   "name": "python",
   "nbconvert_exporter": "python",
   "pygments_lexer": "ipython3",
   "version": "3.13.3"
  }
 },
 "nbformat": 4,
 "nbformat_minor": 0
}
